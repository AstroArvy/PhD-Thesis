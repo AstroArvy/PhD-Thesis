{
 "cells": [
  {
   "cell_type": "code",
   "execution_count": 6,
   "metadata": {},
   "outputs": [
    {
     "name": "stderr",
     "output_type": "stream",
     "text": [
      "WARNING: UnitsWarning: 'dex(Msun)' did not parse as fits unit: At col 4, Unit 'Msun' not supported by the FITS standard. Did you mean Sun? If this is meant to be a custom unit, define it with 'u.def_unit'. To have it recognized inside a file reader or other code, enable it with 'u.add_enabled_units'. For details, see https://docs.astropy.org/en/latest/units/combining_and_defining.html [astropy.units.core]\n",
      "WARNING: UnitsWarning: 'dex(Msun/Lsun,i)' did not parse as fits unit: At col 4, Unit 'Msun' not supported by the FITS standard. Did you mean Sun? If this is meant to be a custom unit, define it with 'u.def_unit'. To have it recognized inside a file reader or other code, enable it with 'u.add_enabled_units'. For details, see https://docs.astropy.org/en/latest/units/combining_and_defining.html [astropy.units.core]\n",
      "WARNING: UnitsWarning: 'dex(yr)' did not parse as fits unit: Unit 'dex' not supported by the FITS standard.  If this is meant to be a custom unit, define it with 'u.def_unit'. To have it recognized inside a file reader or other code, enable it with 'u.add_enabled_units'. For details, see https://docs.astropy.org/en/latest/units/combining_and_defining.html [astropy.units.core]\n",
      "C:\\Users\\catch\\AppData\\Local\\Temp\\ipykernel_33420\\2633070723.py:12: RuntimeWarning: invalid value encountered in log10\n",
      "  filter_data = data[(data['logmstar'] + np.log10(data['fluxscale']) > 9) & (data['Z'] > 0.035) & (data['Z'] < 0.065) & (data['fluxscale'] > 0.3) & (data['fluxscale'] < 3)]\n"
     ]
    }
   ],
   "source": [
    "import numpy as np\n",
    "import pandas as pd\n",
    "from astropy.table import Table\n",
    "import matplotlib.pyplot as plt\n",
    "from scipy.integrate import quad as quad\n",
    "import emcee\n",
    "\n",
    "# Load the fits file\n",
    "data = Table.read('StellarMassesv19.fits', format='fits')\n",
    "\n",
    "# Filter the data\n",
    "filter_data = data[(data['logmstar'] + np.log10(data['fluxscale']) > 9) & (data['Z'] > 0.035) & (data['Z'] < 0.065) & (data['fluxscale'] > 0.3) & (data['fluxscale'] < 3)]\n",
    "\n",
    "fluxscale = filter_data['fluxscale']\n",
    "z = filter_data['Z']\n",
    "logM = filter_data['logmstar'] + np.log10(fluxscale)\n",
    "dlogM = filter_data['dellogmstar']\n",
    "\n",
    "# Create mass bins\n",
    "bin_edges = np.arange(9, 12, 0.2)  # You can adjust the bin size\n",
    "bin_indices = np.digitize(logM, bins=bin_edges)\n",
    "binned_logM = [logM[bin_indices == i] for i in range(1, len(bin_edges))]\n",
    "\n",
    "# Get the bin centers\n",
    "bin_centers = 0.5 * (bin_edges[:-1] + bin_edges[1:])\n",
    "bin_counts = np.array([len(binned_logM[i]) for i in range(len(binned_logM))])\n"
   ]
  },
  {
   "cell_type": "code",
   "execution_count": 9,
   "metadata": {},
   "outputs": [],
   "source": [
    "from sympy import uppergamma, N\n",
    "\n",
    "def comoving_volume(z_initial, z_final, H0=70, Omega_M=0.3, Omega_Lambda=0.7):\n",
    "    c = 3e5 #light speed in km/s as H0 is 70km/s/MPc\n",
    "    # For a flat universe, Omega_k = 0\n",
    "    Omega_k = 1 - Omega_M - Omega_Lambda  \n",
    "    # Hubble distance in Mpc\n",
    "    DH = c / H0  \n",
    "\n",
    "    # Angular size distance\n",
    "    def E(z, Omega_M=Omega_M, Omega_Lambda=Omega_Lambda, Omega_k=Omega_k):\n",
    "        return np.sqrt(Omega_M * (1 + z)**3 + Omega_k * (1 + z)**2 + Omega_Lambda)\n",
    "\n",
    "    # Integral for comoving distance DC\n",
    "    def comoving_distance(z):\n",
    "        return quad(lambda z: 1/E(z), 0, z)[0] * DH\n",
    "\n",
    "    # Calculate DC for initial and final redshifts\n",
    "    DC_initial = comoving_distance(z_initial)\n",
    "    DC_final = comoving_distance(z_final)\n",
    "\n",
    "    # Volume of the light cone V_C using the formula for Omega_k = 0 (flat universe)\n",
    "    VC_initial = (4 * np.pi / 3) * DC_initial**3\n",
    "    VC_final = (4 * np.pi / 3) * DC_final**3\n",
    "\n",
    "    # The volume covered between z_initial and z_final is the difference\n",
    "    V_360 = VC_final - VC_initial\n",
    "    \n",
    "    #full sky has 41253 sq degrees and GAMA has 250sq degrees\n",
    "    V_gama = 143/41253 * V_360\n",
    "    \n",
    "    return V_gama"
   ]
  },
  {
   "cell_type": "code",
   "execution_count": null,
   "metadata": {},
   "outputs": [],
   "source": [
    "def lnlike_2model_binned(parvals, bin_centers, bin_counts, return_model=False):\n",
    "    alpha1, alpha2, log_m_star, log_phi_star1, log_phi_star2 = parvals\n",
    "\n",
    "    if log_m_star < 8 or log_m_star > 12 or alpha1 >= 2 or alpha2 >= 2 or log_phi_star1 <= -5 or log_phi_star2 <= -5:\n",
    "        return -np.inf, 0\n",
    "\n",
    "    def new_sch(log_mass):\n",
    "        x = 10**(log_mass - log_m_star)\n",
    "        sch1 = (10**log_phi_star1) * (x**(alpha1 + 1))\n",
    "        sch2 = (10**log_phi_star2) * (x**(alpha2 + 1))\n",
    "        return (sch1 + sch2) * np.exp(-x) * np.log(10)\n",
    "\n",
    "    def new_int():\n",
    "        [a, b] = [min(bin_centers) - log_m_star, max(bin_centers) - log_m_star]\n",
    "\n",
    "        gamma1_a = float(N(uppergamma(alpha1 + 1, 10**a)))\n",
    "        gamma1_b = float(N(uppergamma(alpha1 + 1, 10**b)))\n",
    "        gamma2_a = float(N(uppergamma(alpha2 + 1, 10**a)))\n",
    "        gamma2_b = float(N(uppergamma(alpha2 + 1, 10**b)))\n",
    "\n",
    "        norm1 = (10**log_phi_star1) * (gamma1_a - gamma1_b)\n",
    "        norm2 = (10**log_phi_star2) * (gamma2_a - gamma2_b)\n",
    "        return norm1 + norm2\n",
    "\n",
    "    def Nexp():\n",
    "        V = comoving_volume(0.035, 0.065)\n",
    "        phi_int = new_int()\n",
    "        return V * phi_int\n",
    "    \n",
    "    def pslike():\n",
    "        #expected Number Counts\n",
    "\n",
    "        #log Likelihood\n",
    "        Nobs = np.sum(bin_counts)\n",
    "        Nexp1 = Nexp()\n",
    "        logL =(-1./2.)*((Nobs-Nexp1)**2)/Nexp1 -(1./2.*np.log(2*np.pi*Nexp1))\n",
    "\n",
    "        #print(logL, Nobs, Nexp1)\n",
    "        return logL\n",
    "    \n",
    "    \n",
    "    lnprior_alpha1 = -0.5 * ((-1 - alpha1) / 1.5)**2\n",
    "    lnprior_alpha2 = -0.5 * ((-1 - alpha2) / 1.5)**2\n",
    "    lnprior = lnprior_alpha1 + lnprior_alpha2\n",
    "\n",
    "    sch = new_sch(bin_centers)\n",
    "    norm = new_int()\n",
    "\n",
    "    Nexp1 = Nexp()\n",
    "\n",
    "    if norm == 0:\n",
    "        return -np.inf, 0\n",
    "\n",
    "    like = np.clip( sch / norm, 1e-12, np.inf )\n",
    "    L = np.nansum( np.log( like ) )\n",
    "\n",
    "    P = pslike()\n",
    "    \n",
    "    if np.isnan(L) or np.isnan(P) or np.isinf(L) or np.isinf(P):\n",
    "        #print(parvals, L, P)\n",
    "        return -np.inf, 0\n",
    "\n",
    "    if return_model:\n",
    "        return like\n",
    "\n",
    "    return L + lnprior + P, Nexp1\n"
   ]
  },
  {
   "cell_type": "code",
   "execution_count": 8,
   "metadata": {},
   "outputs": [
    {
     "name": "stderr",
     "output_type": "stream",
     "text": [
      "  0%|          | 0/10000 [00:00<?, ?it/s]"
     ]
    },
    {
     "name": "stderr",
     "output_type": "stream",
     "text": [
      "  0%|          | 0/10000 [00:00<?, ?it/s]\n"
     ]
    },
    {
     "ename": "ValueError",
     "evalue": "setting an array element with a sequence. The requested array has an inhomogeneous shape after 2 dimensions. The detected shape was (10, 1) + inhomogeneous part.",
     "output_type": "error",
     "traceback": [
      "\u001b[1;31m---------------------------------------------------------------------------\u001b[0m",
      "\u001b[1;31mValueError\u001b[0m                                Traceback (most recent call last)",
      "Cell \u001b[1;32mIn[8], line 19\u001b[0m\n\u001b[0;32m     16\u001b[0m sampler \u001b[38;5;241m=\u001b[39m emcee\u001b[38;5;241m.\u001b[39mEnsembleSampler(nwalkers, ndim, lnlike_2model_binned, args\u001b[38;5;241m=\u001b[39m[bin_centers, bin_counts])\n\u001b[0;32m     18\u001b[0m \u001b[38;5;66;03m# Run the sampler\u001b[39;00m\n\u001b[1;32m---> 19\u001b[0m state \u001b[38;5;241m=\u001b[39m \u001b[43msampler\u001b[49m\u001b[38;5;241;43m.\u001b[39;49m\u001b[43mrun_mcmc\u001b[49m\u001b[43m(\u001b[49m\u001b[43mp0\u001b[49m\u001b[43m,\u001b[49m\u001b[43m \u001b[49m\u001b[38;5;241;43m10000\u001b[39;49m\u001b[43m,\u001b[49m\u001b[43m \u001b[49m\u001b[43mprogress\u001b[49m\u001b[38;5;241;43m=\u001b[39;49m\u001b[38;5;28;43;01mTrue\u001b[39;49;00m\u001b[43m)\u001b[49m\n",
      "File \u001b[1;32mc:\\Python311\\Lib\\site-packages\\emcee\\ensemble.py:443\u001b[0m, in \u001b[0;36mEnsembleSampler.run_mcmc\u001b[1;34m(self, initial_state, nsteps, **kwargs)\u001b[0m\n\u001b[0;32m    440\u001b[0m     initial_state \u001b[38;5;241m=\u001b[39m \u001b[38;5;28mself\u001b[39m\u001b[38;5;241m.\u001b[39m_previous_state\n\u001b[0;32m    442\u001b[0m results \u001b[38;5;241m=\u001b[39m \u001b[38;5;28;01mNone\u001b[39;00m\n\u001b[1;32m--> 443\u001b[0m \u001b[38;5;28;01mfor\u001b[39;00m results \u001b[38;5;129;01min\u001b[39;00m \u001b[38;5;28mself\u001b[39m\u001b[38;5;241m.\u001b[39msample(initial_state, iterations\u001b[38;5;241m=\u001b[39mnsteps, \u001b[38;5;241m*\u001b[39m\u001b[38;5;241m*\u001b[39mkwargs):\n\u001b[0;32m    444\u001b[0m     \u001b[38;5;28;01mpass\u001b[39;00m\n\u001b[0;32m    446\u001b[0m \u001b[38;5;66;03m# Store so that the ``initial_state=None`` case will work\u001b[39;00m\n",
      "File \u001b[1;32mc:\\Python311\\Lib\\site-packages\\emcee\\ensemble.py:402\u001b[0m, in \u001b[0;36mEnsembleSampler.sample\u001b[1;34m(self, initial_state, log_prob0, rstate0, blobs0, iterations, tune, skip_initial_state_check, thin_by, thin, store, progress, progress_kwargs)\u001b[0m\n\u001b[0;32m    399\u001b[0m move \u001b[38;5;241m=\u001b[39m \u001b[38;5;28mself\u001b[39m\u001b[38;5;241m.\u001b[39m_random\u001b[38;5;241m.\u001b[39mchoice(\u001b[38;5;28mself\u001b[39m\u001b[38;5;241m.\u001b[39m_moves, p\u001b[38;5;241m=\u001b[39m\u001b[38;5;28mself\u001b[39m\u001b[38;5;241m.\u001b[39m_weights)\n\u001b[0;32m    401\u001b[0m \u001b[38;5;66;03m# Propose\u001b[39;00m\n\u001b[1;32m--> 402\u001b[0m state, accepted \u001b[38;5;241m=\u001b[39m \u001b[43mmove\u001b[49m\u001b[38;5;241;43m.\u001b[39;49m\u001b[43mpropose\u001b[49m\u001b[43m(\u001b[49m\u001b[43mmodel\u001b[49m\u001b[43m,\u001b[49m\u001b[43m \u001b[49m\u001b[43mstate\u001b[49m\u001b[43m)\u001b[49m\n\u001b[0;32m    403\u001b[0m state\u001b[38;5;241m.\u001b[39mrandom_state \u001b[38;5;241m=\u001b[39m \u001b[38;5;28mself\u001b[39m\u001b[38;5;241m.\u001b[39mrandom_state\n\u001b[0;32m    405\u001b[0m \u001b[38;5;28;01mif\u001b[39;00m tune:\n",
      "File \u001b[1;32mc:\\Python311\\Lib\\site-packages\\emcee\\moves\\red_blue.py:93\u001b[0m, in \u001b[0;36mRedBlueMove.propose\u001b[1;34m(self, model, state)\u001b[0m\n\u001b[0;32m     90\u001b[0m q, factors \u001b[38;5;241m=\u001b[39m \u001b[38;5;28mself\u001b[39m\u001b[38;5;241m.\u001b[39mget_proposal(s, c, model\u001b[38;5;241m.\u001b[39mrandom)\n\u001b[0;32m     92\u001b[0m \u001b[38;5;66;03m# Compute the lnprobs of the proposed position.\u001b[39;00m\n\u001b[1;32m---> 93\u001b[0m new_log_probs, new_blobs \u001b[38;5;241m=\u001b[39m \u001b[43mmodel\u001b[49m\u001b[38;5;241;43m.\u001b[39;49m\u001b[43mcompute_log_prob_fn\u001b[49m\u001b[43m(\u001b[49m\u001b[43mq\u001b[49m\u001b[43m)\u001b[49m\n\u001b[0;32m     95\u001b[0m \u001b[38;5;66;03m# Loop over the walkers and update them accordingly.\u001b[39;00m\n\u001b[0;32m     96\u001b[0m \u001b[38;5;28;01mfor\u001b[39;00m i, (j, f, nlp) \u001b[38;5;129;01min\u001b[39;00m \u001b[38;5;28menumerate\u001b[39m(\n\u001b[0;32m     97\u001b[0m     \u001b[38;5;28mzip\u001b[39m(all_inds[S1], factors, new_log_probs)\n\u001b[0;32m     98\u001b[0m ):\n",
      "File \u001b[1;32mc:\\Python311\\Lib\\site-packages\\emcee\\ensemble.py:524\u001b[0m, in \u001b[0;36mEnsembleSampler.compute_log_prob\u001b[1;34m(self, coords)\u001b[0m\n\u001b[0;32m    521\u001b[0m     \u001b[38;5;28;01mif\u001b[39;00m dt\u001b[38;5;241m.\u001b[39mkind \u001b[38;5;129;01min\u001b[39;00m \u001b[38;5;124m\"\u001b[39m\u001b[38;5;124mUS\u001b[39m\u001b[38;5;124m\"\u001b[39m:\n\u001b[0;32m    522\u001b[0m         \u001b[38;5;66;03m# Strings need to be object arrays or we risk truncation\u001b[39;00m\n\u001b[0;32m    523\u001b[0m         dt \u001b[38;5;241m=\u001b[39m np\u001b[38;5;241m.\u001b[39mdtype(\u001b[38;5;124m\"\u001b[39m\u001b[38;5;124mobject\u001b[39m\u001b[38;5;124m\"\u001b[39m)\n\u001b[1;32m--> 524\u001b[0m blob \u001b[38;5;241m=\u001b[39m \u001b[43mnp\u001b[49m\u001b[38;5;241;43m.\u001b[39;49m\u001b[43marray\u001b[49m\u001b[43m(\u001b[49m\u001b[43mblob\u001b[49m\u001b[43m,\u001b[49m\u001b[43m \u001b[49m\u001b[43mdtype\u001b[49m\u001b[38;5;241;43m=\u001b[39;49m\u001b[43mdt\u001b[49m\u001b[43m)\u001b[49m\n\u001b[0;32m    526\u001b[0m \u001b[38;5;66;03m# Deal with single blobs properly\u001b[39;00m\n\u001b[0;32m    527\u001b[0m shape \u001b[38;5;241m=\u001b[39m blob\u001b[38;5;241m.\u001b[39mshape[\u001b[38;5;241m1\u001b[39m:]\n",
      "\u001b[1;31mValueError\u001b[0m: setting an array element with a sequence. The requested array has an inhomogeneous shape after 2 dimensions. The detected shape was (10, 1) + inhomogeneous part."
     ]
    }
   ],
   "source": [
    "import emcee\n",
    "\n",
    "# Define the initial positions of the walkers\n",
    "ndim = 5\n",
    "nwalkers = 20\n",
    "p0 = np.random.rand(nwalkers, ndim)\n",
    "mstar00 = 10.5 + 0.5 * np.random.randn(nwalkers)\n",
    "alpha00 = -1.5 + 0.3 * np.random.rand(nwalkers)\n",
    "alpha01 = -0.5 + 0.3 * np.random.rand(nwalkers)\n",
    "log_phistar00 = np.log10(0.8e-3 + 0.0003 * np.random.rand(nwalkers))\n",
    "log_phistar01 = np.log10(3e-2 + 0.003 * np.random.rand(nwalkers))\n",
    "\n",
    "p0 = np.vstack([alpha00, alpha01, mstar00, log_phistar00, log_phistar01]).T\n",
    "\n",
    "# Initialize the sampler\n",
    "sampler = emcee.EnsembleSampler(nwalkers, ndim, lnlike_2model_binned, args=[bin_centers, bin_counts])\n",
    "\n",
    "# Run the sampler\n",
    "state = sampler.run_mcmc(p0, 10000, progress=True)\n"
   ]
  },
  {
   "cell_type": "code",
   "execution_count": null,
   "metadata": {},
   "outputs": [],
   "source": []
  }
 ],
 "metadata": {
  "kernelspec": {
   "display_name": "Python 3",
   "language": "python",
   "name": "python3"
  },
  "language_info": {
   "codemirror_mode": {
    "name": "ipython",
    "version": 3
   },
   "file_extension": ".py",
   "mimetype": "text/x-python",
   "name": "python",
   "nbconvert_exporter": "python",
   "pygments_lexer": "ipython3",
   "version": "3.11.2"
  }
 },
 "nbformat": 4,
 "nbformat_minor": 2
}
