{
 "cells": [
  {
   "cell_type": "code",
   "execution_count": 50,
   "id": "54f078ff",
   "metadata": {},
   "outputs": [],
   "source": [
    "import astropy as ap\n",
    "import numpy as np\n",
    "import matplotlib.pyplot as plt\n",
    "from scipy.integrate import quad as quad\n",
    "from tqdm import tqdm\n",
    "import emcee"
   ]
  },
  {
   "cell_type": "code",
   "execution_count": 145,
   "id": "4402b11e",
   "metadata": {},
   "outputs": [
    {
     "name": "stderr",
     "output_type": "stream",
     "text": [
      "WARNING: UnitsWarning: 'dex(Msun)' did not parse as fits unit: At col 4, Unit 'Msun' not supported by the FITS standard. Did you mean Sun? If this is meant to be a custom unit, define it with 'u.def_unit'. To have it recognized inside a file reader or other code, enable it with 'u.add_enabled_units'. For details, see https://docs.astropy.org/en/latest/units/combining_and_defining.html [astropy.units.core]\n",
      "WARNING: UnitsWarning: 'dex(Msun/Lsun,i)' did not parse as fits unit: At col 4, Unit 'Msun' not supported by the FITS standard. Did you mean Sun? If this is meant to be a custom unit, define it with 'u.def_unit'. To have it recognized inside a file reader or other code, enable it with 'u.add_enabled_units'. For details, see https://docs.astropy.org/en/latest/units/combining_and_defining.html [astropy.units.core]\n",
      "WARNING: UnitsWarning: 'dex(yr)' did not parse as fits unit: Unit 'dex' not supported by the FITS standard.  If this is meant to be a custom unit, define it with 'u.def_unit'. To have it recognized inside a file reader or other code, enable it with 'u.add_enabled_units'. For details, see https://docs.astropy.org/en/latest/units/combining_and_defining.html [astropy.units.core]\n",
      "/var/folders/vp/0s2pgt314wzdbs3gffxqpwk80000gr/T/ipykernel_13739/3744097893.py:7: RuntimeWarning: invalid value encountered in log10\n",
      "  filter_data = data[(data['logmstar'] + np.log10(data['fluxscale']) > 9) & (data['Z'] > 0.035) & (data['Z'] < 0.065) & (data['fluxscale'] > 0.3) & (data['fluxscale'] < 3)]\n"
     ]
    }
   ],
   "source": [
    "from astropy.table import Table\n",
    "\n",
    "# Load the fits file\n",
    "data = Table.read('StellarMassesv19.fits', format='fits')\n",
    "\n",
    "#print (data.colnames)\n",
    "filter_data = data[(data['logmstar'] + np.log10(data['fluxscale']) > 9) & (data['Z'] > 0.035) & (data['Z'] < 0.065) & (data['fluxscale'] > 0.3) & (data['fluxscale'] < 3)]\n",
    "\n",
    "fluxscale = filter_data['fluxscale']\n",
    "z = filter_data['Z']\n",
    "logM = filter_data['logmstar']+np.log10(fluxscale)\n",
    "dlogM = filter_data['dellogmstar']"
   ]
  },
  {
   "cell_type": "markdown",
   "id": "c6da070f",
   "metadata": {},
   "source": [
    "\\begin{equation}\n",
    "    N_{exp} = \\oint dV \\oint_{M_l}^{M_h} d\\log M\n",
    "\\end{equation}\n",
    "\n",
    "\\begin{equation}\n",
    "    L = \\frac{1}{\\sqrt{2\\pi N_{exp}}} exp \\left[\\frac{-1}{2} \\left( \\frac{N_{obs} - N_{exp}}{\\sqrt{Nexp}}\\right)^2\\right]\n",
    "\\end{equation}"
   ]
  },
  {
   "cell_type": "code",
   "execution_count": 146,
   "id": "0933cc4b",
   "metadata": {},
   "outputs": [],
   "source": [
    "#define all the functions\n",
    "\n",
    "def schechter_func(ln_mass, phi_star, ln_m_star, alpha):\n",
    "    x = ln_mass - ln_m_star\n",
    "    #print(alpha,ln_m_star)\n",
    "    sch = np.log(10)*phi_star*((10**x)**(alpha+1))*np.exp(-10**x)\n",
    "    sch = np.where(np.isfinite(sch), sch, 0)\n",
    "    return sch\n",
    "    \n",
    "def schechter_new(ln_mass, phi_star, ln_m_star1, alpha1, ln_m_star2, alpha2, f1):\n",
    "    sch1 = f1*schechter_func(ln_mass, phi_star, ln_m_star1, alpha1)\n",
    "    sch2 = (1-f1)*schechter_func(ln_mass,phi_star, ln_m_star2, alpha2)\n",
    "    return (sch1+sch2)\n",
    "\n",
    "def schechter_int(ln_mass, phi_star,ln_m_star, alpha):\n",
    "    # Efficient integral computation\n",
    "    func = lambda x: np.log(10) * phi_star * (10**((x - ln_m_star) * (alpha + 1))) * np.exp(-10**(x - ln_m_star))\n",
    "    norm, _ = quad(func, a=np.min(ln_mass), b=np.max(ln_mass))\n",
    "    return norm"
   ]
  },
  {
   "cell_type": "code",
   "execution_count": 147,
   "id": "05079d6e",
   "metadata": {},
   "outputs": [
    {
     "name": "stdout",
     "output_type": "stream",
     "text": [
      "The volume of the light cone between z=1e-06 and z=0.065 is approximately 300145.55 cubic Mpc.\n"
     ]
    }
   ],
   "source": [
    "def comoving_volume(z_initial, z_final, H0=70, Omega_M=0.3, Omega_Lambda=0.7):\n",
    "    c = 3e5 #light speed in km/s as H0 is 70km/s/MPc\n",
    "    # For a flat universe, Omega_k = 0\n",
    "    Omega_k = 1 - Omega_M - Omega_Lambda  \n",
    "    # Hubble distance in Mpc\n",
    "    DH = c / H0  \n",
    "\n",
    "    # Angular size distance\n",
    "    def E(z, Omega_M=Omega_M, Omega_Lambda=Omega_Lambda, Omega_k=Omega_k):\n",
    "        return np.sqrt(Omega_M * (1 + z)**3 + Omega_k * (1 + z)**2 + Omega_Lambda)\n",
    "\n",
    "    # Integral for comoving distance DC\n",
    "    def comoving_distance(z):\n",
    "        return quad(lambda z: 1/E(z), 0, z)[0] * DH\n",
    "\n",
    "    # Calculate DC for initial and final redshifts\n",
    "    DC_initial = comoving_distance(z_initial)\n",
    "    DC_final = comoving_distance(z_final)\n",
    "\n",
    "    # Volume of the light cone V_C using the formula for Omega_k = 0 (flat universe)\n",
    "    VC_initial = (4 * np.pi / 3) * DC_initial**3\n",
    "    VC_final = (4 * np.pi / 3) * DC_final**3\n",
    "\n",
    "    # The volume covered between z_initial and z_final is the difference\n",
    "    V_360 = VC_final - VC_initial\n",
    "    \n",
    "    #full sky has 41253 sq degrees and GAMA has 250sq degrees\n",
    "    V_gama = 143/41253 * V_360\n",
    "    \n",
    "    return V_gama\n",
    "\n",
    "# Initial and final redshifts\n",
    "z_initial = 1e-6\n",
    "z_final = 0.065\n",
    "\n",
    "# Calculate and print the volume of the light cone\n",
    "volume = comoving_volume(z_initial, z_final)\n",
    "print(f\"The volume of the light cone between z={z_initial} and z={z_final} is approximately {volume:.2f} cubic Mpc.\")"
   ]
  },
  {
   "cell_type": "code",
   "execution_count": 148,
   "id": "12857317",
   "metadata": {},
   "outputs": [],
   "source": [
    "from astropy.cosmology import Planck15\n",
    "def co_vol(z_initial, z_final, Omega = 0.0873):\n",
    "    V23  = Planck15.comoving_volume(z_final) - Planck15.comoving_volume(z_initial)\n",
    "    V    = Omega/(4*np.pi) * V23\n",
    "    return V.value"
   ]
  },
  {
   "cell_type": "code",
   "execution_count": 149,
   "id": "eba2f95a",
   "metadata": {},
   "outputs": [],
   "source": [
    "def pslike(ln_mass,phi_star, ln_m_star, alpha):\n",
    "    #expected Number Counts\n",
    "    def Nexp(ln_mass, phi_star, ln_m_star, alpha, z_initial=1e-6, z_final=0.065):\n",
    "        V=comoving_volume(z_initial,z_final)\n",
    "        phi_int =  schechter_int(ln_mass, phi_star, ln_m_star, alpha)\n",
    "        Nexp = V * phi_int\n",
    "        return Nexp\n",
    "    \n",
    "    #log Likelihood\n",
    "    Nobs = len(z)\n",
    "    Nexp = Nexp(ln_mass,phi_star, ln_m_star, alpha)\n",
    "    logL =(-1./2)*((Nobs-Nexp)**2)/Nexp -(1/(2*np.log(2*np.pi*Nexp)))\n",
    "    \n",
    "    #print(logL, Nobs, Nexp)\n",
    "    return logL"
   ]
  },
  {
   "cell_type": "code",
   "execution_count": 150,
   "id": "bbb9a553",
   "metadata": {},
   "outputs": [],
   "source": [
    "def lnlike(parvals, data, uncerts, return_model=False):\n",
    "    alpha, ln_m_star, phi_star = parvals\n",
    "    ln_mass= data \n",
    "    \n",
    "    if ln_m_star < 8 and phi_star < 0:\n",
    "        return -np.inf\n",
    "    \n",
    "    lnprior = -0.5*( (-2 - alpha)/1.5 )**2.\n",
    "    # gaussian prior on alpha, centred at -1, with stderr 1.5\n",
    "    \n",
    "    # Vectorized calculation of the Schechter function\n",
    "    sch = schechter_func(ln_mass, phi_star, ln_m_star, alpha)\n",
    "    \n",
    "    # Efficient integral computation\n",
    "    norm = schechter_int(ln_mass, phi_star, ln_m_star, alpha)\n",
    "    \n",
    "    const = 1e-10  # To avoid log(0)\n",
    "    \n",
    "    #Vectorized log sum and normalization\n",
    "    #L = np.nansum(np.log(sch + const)) - len(ln_mass) * np.log(norm + const)\n",
    "\n",
    "    like = np.clip( sch / norm, 1e-12, np.inf )\n",
    "    L = np.nansum( np.log( like ) )\n",
    "    \n",
    "    if return_model :\n",
    "        return np.clip( sch / norm, 1e-12, np.inf )\n",
    "\n",
    "    like = np.clip( sch / norm, 1e-12, np.inf )\n",
    "    L = np.nansum( np.log( like ) )\n",
    "    \n",
    "    #print( alpha, ln_m_star, L)\n",
    "    return L + lnprior #+ pslike(ln_mass, phi_star, ln_m_star, alpha)"
   ]
  },
  {
   "cell_type": "code",
   "execution_count": 151,
   "id": "650c3cc4",
   "metadata": {},
   "outputs": [],
   "source": [
    "def plot_obs_mf(logM, color):\n",
    "    vol = co_vol(0.035,0.065)\n",
    "    logmstep=0.1\n",
    "    bins = np.arange(min(logM), max(logM)+1e-10, logmstep)\n",
    "    counts, bins = np.histogram(logM, bins)\n",
    "    mf = counts / logmstep / vol\n",
    "    plt.plot(bins[:-1],mf, color=color, label='observed', drawstyle='steps-pre')\n",
    "    \n",
    "def plot_model_mf(parvals, data, uncert, color):\n",
    "    \n",
    "    alpha, ln_m_star, phi_star = parvals\n",
    "    ln_mass= data \n",
    "    \n",
    "    def ind_like(parvals, data, uncerts):\n",
    "\n",
    "        # Vectorized calculation of the Schechter function\n",
    "        sch = schechter_func(ln_mass, phi_star, ln_m_star, alpha)\n",
    "\n",
    "        # Efficient integral computation\n",
    "        #norm = schechter_int(ln_mass, phi_star, ln_m_star, alpha)\n",
    "\n",
    "        like = np.clip( sch, 1e-12, np.inf )\n",
    "        return like\n",
    "    \n",
    "    plt.scatter(data, ind_like(parvals,data,uncert), s=1, color=color, label='model')"
   ]
  },
  {
   "cell_type": "code",
   "execution_count": 152,
   "id": "23c3f9a3",
   "metadata": {},
   "outputs": [
    {
     "name": "stderr",
     "output_type": "stream",
     "text": [
      "100%|███████████████████████████████████████████████████████████████████████████████████████████████████████████████████████| 100/100 [00:00<00:00, 2105.52it/s]\n"
     ]
    },
    {
     "data": {
      "image/png": "[encoded data removed]",
      "text/plain": [
       "<Figure size 700x620 with 1 Axes>"
      ]
     },
     "metadata": {},
     "output_type": "display_data"
    }
   ],
   "source": [
    "alpha = np.linspace(-2,1,100)\n",
    "L_values = np.zeros(len(alpha))\n",
    "L_values2 = np.zeros(len(alpha))\n",
    "\n",
    "\n",
    "from tqdm import tqdm\n",
    "for i in tqdm(range(len(alpha))):\n",
    "    phi_star, logM_star = 3.96e-3, 10.66\n",
    "    L_values[i] = lnlike((alpha[i],logM_star, phi_star), logM, dlogM)\n",
    "    #L_values2[i] = lnlike2((alpha[i],logM_star, phi_star), logM, dlogM)\n",
    "\n",
    "    \n",
    "plt.figure(figsize=(7,6.2))\n",
    "\n",
    "minima = alpha[np.argmax(L_values)]\n",
    "\n",
    "plt.plot(alpha,L_values, color= 'blue')\n",
    "\n",
    "plt.axvline(x = minima, color = 'black',linestyle=':', label = 'axvline - full height')\n",
    "\n",
    "plt.text(minima-0.005, plt.gca().get_ylim()[0]-7, str(round(minima,2)), ha='center', va='top', fontweight=1000)\n",
    "\n",
    "plt.title(r'$\\alpha$ vs $\\log L$')\n",
    "\n",
    "plt.grid(alpha=0.5, linestyle=':')\n",
    "\n",
    "plt.xlabel('alpha', fontsize=13)\n",
    "plt.ylabel('log L', fontsize=13)\n",
    "\n",
    "plt.show()"
   ]
  },
  {
   "cell_type": "code",
   "execution_count": 153,
   "id": "969a352f",
   "metadata": {},
   "outputs": [
    {
     "ename": "ValueError",
     "evalue": "too many values to unpack (expected 2)",
     "output_type": "error",
     "traceback": [
      "\u001b[0;31m---------------------------------------------------------------------------\u001b[0m",
      "\u001b[0;31mValueError\u001b[0m                                Traceback (most recent call last)",
      "Cell \u001b[0;32mIn[153], line 2\u001b[0m\n\u001b[1;32m      1\u001b[0m alpha \u001b[38;5;241m=\u001b[39m \u001b[38;5;241m-\u001b[39m\u001b[38;5;241m1.47\u001b[39m, \u001b[38;5;241m-\u001b[39m\u001b[38;5;241m0.35\u001b[39m\n\u001b[0;32m----> 2\u001b[0m phi_star, ln_m_star \u001b[38;5;241m=\u001b[39m \u001b[38;5;241m0.79e-3\u001b[39m, \u001b[38;5;241m10.66\u001b[39m , \u001b[38;5;241m3.96e-3\u001b[39m\n\u001b[1;32m      3\u001b[0m parvals \u001b[38;5;241m=\u001b[39m (alpha, ln_m_star, phi_star)\n\u001b[1;32m      5\u001b[0m plt\u001b[38;5;241m.\u001b[39mfigure(figsize\u001b[38;5;241m=\u001b[39m(\u001b[38;5;241m8\u001b[39m,\u001b[38;5;241m7\u001b[39m))\n",
      "\u001b[0;31mValueError\u001b[0m: too many values to unpack (expected 2)"
     ]
    }
   ],
   "source": [
    "alpha = -1.47, -0.35\n",
    "phi_star, ln_m_star = 0.79e-3, 10.66 , 3.96e-3\n",
    "parvals = (alpha, ln_m_star, phi_star)\n",
    "\n",
    "plt.figure(figsize=(8,7))\n",
    "\n",
    "plt.yscale('log')\n",
    "plot_model_mf(parvals,logM, dlogM, 'red')\n",
    "plot_obs_mf(logM,'blue')\n",
    "\n",
    "plt.legend()\n",
    "#plt.ylim(1e-11, 1e-5)"
   ]
  },
  {
   "cell_type": "markdown",
   "id": "3ebd69c6",
   "metadata": {},
   "source": [
    "# 2 Schechter Fit"
   ]
  },
  {
   "cell_type": "code",
   "execution_count": 154,
   "id": "fe013c8e",
   "metadata": {},
   "outputs": [],
   "source": [
    "def schechter_new(parvals, data): #data=logM\n",
    "    [alpha1, alpha2], log_m_star, [phi_star1,phi_star2]= parvals\n",
    "    log_mass= data\n",
    "    x = 10**(data-log_m_star)\n",
    "    \n",
    "    sch1 = phi_star1*(x**(alpha1+1))\n",
    "    sch2 = phi_star2*(x**(alpha2+1))\n",
    "    return (sch1+sch2)*np.exp(-x)*np.log(10)\n",
    "\n",
    "def plot_obs_mf(logM, color):\n",
    "    #vol = co_vol(0.035,0.065)\n",
    "    vol = comoving_volume(0.035,0.065)\n",
    "    logmstep=0.1\n",
    "    bins = np.arange(min(logM), max(logM)+1e-10, logmstep)\n",
    "    counts, bins = np.histogram(logM, bins)\n",
    "    mf = counts / logmstep / vol\n",
    "    #plt.plot(bins[:-1],mf, color=color, label='observed', drawstyle='steps-post')\n",
    "    plt.scatter(bins[:-1]+0.05,mf, color=color, s=4, label='observed')\n",
    "\n",
    "    \n",
    "def plot_2_model_mf(parvals, data, uncert, color):\n",
    "    \n",
    "    [alpha1, alpha2], log_m_star, [phi_star1,phi_star2]= parvals\n",
    "    log_mass= data \n",
    "    \n",
    "    def new_int(alpha, phi_star):\n",
    "        func = lambda x: np.exp(-x)*(phi_star*(x**alpha))\n",
    "        norm, _ =  quad(func, a=np.min(log_mass), b=np.max(log_mass))\n",
    "        return norm\n",
    "    \n",
    "    def ind_like(parvals, data, uncerts):\n",
    "\n",
    "        # Vectorized calculation of the Schechter function\n",
    "        sch = schechter_new(parvals, data)\n",
    "\n",
    "        #new integral computation \n",
    "        #norm = new_int(alpha1, phi_star1) + new_int(alpha2, phi_star2)\n",
    "        like = np.clip( sch, 1e-12, np.inf)\n",
    "        \n",
    "        return like\n",
    "    \n",
    "    plt.scatter(data, ind_like(parvals,data,uncert), s=1, color=color, label='model')"
   ]
  },
  {
   "cell_type": "code",
   "execution_count": 155,
   "id": "30e71954",
   "metadata": {},
   "outputs": [
    {
     "data": {
      "image/png": "[encoded data removed]",
      "text/plain": [
       "<Figure size 800x700 with 1 Axes>"
      ]
     },
     "metadata": {},
     "output_type": "display_data"
    }
   ],
   "source": [
    "[alpha1, alpha2] = [-1.47, -0.35]\n",
    "[phi_star1, phi_star2] = [0.79e-3, 3.96e-3]\n",
    "m_star = 10.66\n",
    "\n",
    "parvals = [alpha1, alpha2], m_star, [phi_star1, phi_star2]\n",
    "\n",
    "\n",
    "plt.figure(figsize=(8,7))\n",
    "\n",
    "plt.yscale('log')\n",
    "plot_2_model_mf(parvals,logM, dlogM, 'red')\n",
    "plot_obs_mf(logM,'blue')\n",
    "\n",
    "plt.legend()\n",
    "plt.ylim(1e-5, 2e-1)\n",
    "plt.xlim(7,11.8)\n",
    "\n",
    "plt.grid()"
   ]
  },
  {
   "cell_type": "markdown",
   "id": "ff940828",
   "metadata": {},
   "source": [
    "# MCMC"
   ]
  },
  {
   "cell_type": "code",
   "execution_count": 156,
   "id": "7e6dec8d",
   "metadata": {},
   "outputs": [],
   "source": [
    "from scipy.special import gammainc\n",
    "\n",
    "def lnlike_2model(parvals, data, uncerts):\n",
    "    [alpha1, alpha2], log_m_star, [phi_star1,phi_star2]= parvals\n",
    "    log_mass= data \n",
    "    \n",
    "    if log_m_star < 8 and phi_star1 < 0 and phi_star2 <0:\n",
    "        return -np.inf\n",
    "    \n",
    "    def new_sch(parvals, data): #data=logM\n",
    "        [alpha1, alpha2], log_m_star, [phi_star1,phi_star2]= parvals\n",
    "        log_mass= data\n",
    "        x = 10**(data-log_m_star)\n",
    "        sch1 = phi_star1*(x**(alpha1+1))\n",
    "        sch2 = phi_star2*(x**(alpha2+1))\n",
    "        return (sch1+sch2)*np.exp(-x)*np.log(10)\n",
    "    \n",
    "    def new_int(parvals, data):\n",
    "        [alpha1, alpha2], log_m_star, [phi_star1,phi_star2]= parvals\n",
    "        log_mass= data \n",
    "        [a,b] = [min(log_mass),max(log_mass)]\n",
    "        norm = np.log(10)*(phi_star1*gammainc(alpha1+3,a)-phi_star1*gammainc(alpha1+3,b))-np.log(10)*(phi_star2*gammainc(alpha2+3,a)-phi_star2*gammainc(alpha2+3,b))\n",
    "        return norm\n",
    "    \n",
    "    def pslike(parvals, data):\n",
    "        #expected Number Counts\n",
    "        def Nexp(parvals, data, z_initial=0.035, z_final=0.065):\n",
    "            V=comoving_volume(z_initial,z_final)\n",
    "            phi_int =  new_int(parvals, data)\n",
    "            Nexp = V * phi_int\n",
    "            return Nexp\n",
    "\n",
    "        #log Likelihood\n",
    "        Nobs = len(z)\n",
    "        Nexp = Nexp(parvals, data)\n",
    "        logL =(-1./2)*((Nobs-Nexp)**2)/Nexp -(1/(2*np.log(2*np.pi*Nexp)))\n",
    "\n",
    "        #print(logL, Nobs, Nexp)\n",
    "        return logL\n",
    "    \n",
    "    \n",
    "    lnprior_alpha1 = -0.5 * ((-1 - alpha1) / 1.5) ** 2\n",
    "    lnprior_alpha2 = -0.5 * ((-1 - alpha2) / 1.5) ** 2\n",
    "    # gaussian prior on alpha, centred at -1, with stderr 1.5\n",
    "    lnprior = lnprior_alpha1 + lnprior_alpha2\n",
    "    \n",
    "    \n",
    "    # Vectorized calculation of the Schechter function\n",
    "    sch = schechter_new(parvals, data)\n",
    "    \n",
    "    # Efficient integral computation\n",
    "    norm = new_int(parvals, data)\n",
    "\n",
    "    like = np.clip( sch / norm, 1e-12, np.inf )\n",
    "    L = np.nansum( np.log( like ) )\n",
    "    \n",
    "    #print( alpha, ln_m_star, L)\n",
    "    return L + lnprior #+ pslike(ln_mass, phi_star, ln_m_star, alpha)"
   ]
  },
  {
   "cell_type": "code",
   "execution_count": 157,
   "id": "c95f4c49",
   "metadata": {},
   "outputs": [
    {
     "ename": "TypeError",
     "evalue": "pslike() missing 2 required positional arguments: 'ln_m_star' and 'alpha'",
     "output_type": "error",
     "traceback": [
      "\u001b[0;31m---------------------------------------------------------------------------\u001b[0m",
      "\u001b[0;31mTypeError\u001b[0m                                 Traceback (most recent call last)",
      "Cell \u001b[0;32mIn[157], line 7\u001b[0m\n\u001b[1;32m      3\u001b[0m m_star \u001b[38;5;241m=\u001b[39m \u001b[38;5;241m10.66\u001b[39m\n\u001b[1;32m      5\u001b[0m parvals \u001b[38;5;241m=\u001b[39m [alpha1, alpha2], m_star, [phi_star1, phi_star2]\n\u001b[0;32m----> 7\u001b[0m \u001b[43mpslike\u001b[49m\u001b[43m(\u001b[49m\u001b[43mparvals\u001b[49m\u001b[43m,\u001b[49m\u001b[43m \u001b[49m\u001b[43mlogM\u001b[49m\u001b[43m)\u001b[49m\n",
      "\u001b[0;31mTypeError\u001b[0m: pslike() missing 2 required positional arguments: 'ln_m_star' and 'alpha'"
     ]
    }
   ],
   "source": [
    "[alpha1, alpha2] = [-1.47, -0.35]\n",
    "[phi_star1, phi_star2] = [0.79e-3, 3.96e-3]\n",
    "m_star = 10.66\n",
    "\n",
    "parvals = [alpha1, alpha2], m_star, [phi_star1, phi_star2]\n",
    "\n",
    "pslike(parvals, logM)"
   ]
  },
  {
   "cell_type": "code",
   "execution_count": 158,
   "id": "63dd4d1c",
   "metadata": {},
   "outputs": [],
   "source": [
    "from sympy import uppergamma, N\n",
    "\n",
    "def new_int(parvals, data):\n",
    "    [alpha1, alpha2], log_m_star, [phi_star1, phi_star2] = parvals\n",
    "    log_mass = data\n",
    "    [a, b] = [min(log_mass) - log_m_star, max(log_mass) - log_m_star]\n",
    "    \n",
    "    # Compute uppergamma values using sympy's N to ensure numerical values\n",
    "    gamma1_a = float(N(uppergamma(alpha1 + 1, 10**a)))\n",
    "    gamma1_b = float(N(uppergamma(alpha1 + 1, 10**b)))\n",
    "    gamma2_a = float(N(uppergamma(alpha2 + 1, 10**a)))\n",
    "    gamma2_b = float(N(uppergamma(alpha2 + 1, 10**b)))\n",
    "    \n",
    "    norm1 = (phi_star1 * (gamma1_a - gamma1_b))\n",
    "    norm2 = (phi_star2 * (gamma2_a - gamma2_b))\n",
    "    norm = norm1 + norm2\n",
    "    \n",
    "    return(norm)\n",
    "\n",
    "def quad_int(parvals, data):\n",
    "    integrand = lambda x : schechter_new( parvals, x )\n",
    "    result = quad( integrand, data.min(), data.max() )[0]\n",
    "    return result\n",
    "\n",
    "\n",
    "def dumb_int(parvals, data):\n",
    "    integrand = lambda x : schechter_new( parvals, x )\n",
    "    dx = 1e-3\n",
    "    xgrid = np.arange( data.min(), data.max() + dx/10., dx )\n",
    "    ygrid = schechter_new( parvals, xgrid )\n",
    "    result = np.sum( ygrid ) * dx\n",
    "    return result\n",
    "\n",
    "def gamma_int_linear(parvals, data):\n",
    "    [alpha1, alpha2], log_m_star, [phi_star1,phi_star2]= parvals\n",
    "    a = 10**(np.min(logM))/(10**log_m_star)\n",
    "    b = 10**(np.max(logM))/(10**log_m_star)\n",
    "    gamma1 = gammainc(alpha1+2,a)-gammainc(alpha1+2,b)\n",
    "    gamma2 = gammainc(alpha2+2,a)-gammainc(alpha2+2,b)\n",
    "    result = (phi_star1*gamma1) - (phi_star2*gamma2)\n",
    "    #print(gamma1, alpha1)\n",
    "    return (result)\n",
    "\n",
    "def pslike(parvals, data):\n",
    "    #expected Number Counts\n",
    "    def Nexp(parvals, data, z_initial=0.035, z_final=0.065):\n",
    "        V=comoving_volume(z_initial,z_final)\n",
    "        phi_int =  quad_int(parvals, data)\n",
    "        #print(phi_int)\n",
    "        Nexp = V * phi_int\n",
    "        return Nexp\n",
    "\n",
    "    #log Likelihood\n",
    "    Nobs = len(z)\n",
    "    Nexp = Nexp(parvals, data)\n",
    "    logL =(-1./2)*((Nobs-Nexp)**2)/Nexp -(1/(2*np.log(2*np.pi*Nexp)))\n",
    "\n",
    "    print(Nobs, Nexp)\n",
    "    return logL"
   ]
  },
  {
   "cell_type": "code",
   "execution_count": 159,
   "id": "6444f709",
   "metadata": {},
   "outputs": [
    {
     "data": {
      "text/plain": [
       "-3.4745812985386565e-07"
      ]
     },
     "execution_count": 159,
     "metadata": {},
     "output_type": "execute_result"
    }
   ],
   "source": [
    "a=np.min(logM)\n",
    "b=np.max(logM)\n",
    "phi_star1*gammainc(alpha1+3,a)-phi_star1*gammainc(alpha1+3,b)"
   ]
  },
  {
   "cell_type": "code",
   "execution_count": 160,
   "id": "ded5e1d7",
   "metadata": {},
   "outputs": [
    {
     "name": "stdout",
     "output_type": "stream",
     "text": [
      "0.012480464148224821\n",
      "0.0032818499988540267\n",
      "0.012480464148224827\n",
      "0.012486194664934435\n",
      "1.0000000000000004\n"
     ]
    }
   ],
   "source": [
    "print( new_int(parvals, logM) )\n",
    "print( gamma_int_linear(parvals, logM) )\n",
    "print( quad_int(parvals, logM) )\n",
    "print( dumb_int(parvals, logM) )\n",
    "print( quad_int(parvals, logM) / new_int(parvals, logM) )\n"
   ]
  },
  {
   "cell_type": "code",
   "execution_count": 161,
   "id": "064dfe5c-e6e6-4b03-8d28-9c5fb837bb07",
   "metadata": {},
   "outputs": [
    {
     "name": "stdout",
     "output_type": "stream",
     "text": [
      "3493 3148.7862925548857\n"
     ]
    },
    {
     "data": {
      "text/plain": [
       "-18.864629242139927"
      ]
     },
     "execution_count": 161,
     "metadata": {},
     "output_type": "execute_result"
    }
   ],
   "source": [
    "pslike(parvals, logM)"
   ]
  },
  {
   "cell_type": "code",
   "execution_count": null,
   "id": "9c6f027e-de2b-4029-941a-4460c9d35635",
   "metadata": {},
   "outputs": [],
   "source": []
  }
 ],
 "metadata": {
  "kernelspec": {
   "display_name": "Python 3 (ipykernel)",
   "language": "python",
   "name": "python3"
  },
  "language_info": {
   "codemirror_mode": {
    "name": "ipython",
    "version": 3
   },
   "file_extension": ".py",
   "mimetype": "text/x-python",
   "name": "python",
   "nbconvert_exporter": "python",
   "pygments_lexer": "ipython3",
   "version": "3.9.6"
  }
 },
 "nbformat": 4,
 "nbformat_minor": 5
}
