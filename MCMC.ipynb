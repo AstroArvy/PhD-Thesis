{
 "cells": [
  {
   "cell_type": "code",
   "execution_count": 6,
   "id": "5ff47f29",
   "metadata": {},
   "outputs": [],
   "source": [
    "import astropy as ap\n",
    "import numpy as np\n",
    "import matplotlib.pyplot as plt\n",
    "from scipy.integrate import quad as quad\n",
    "from tqdm import tqdm\n",
    "import emcee"
   ]
  },
  {
   "cell_type": "code",
   "execution_count": 7,
   "id": "3237ab75",
   "metadata": {},
   "outputs": [
    {
     "name": "stderr",
     "output_type": "stream",
     "text": [
      "WARNING: UnitsWarning: 'dex(Msun)' did not parse as fits unit: At col 4, Unit 'Msun' not supported by the FITS standard. Did you mean Sun? If this is meant to be a custom unit, define it with 'u.def_unit'. To have it recognized inside a file reader or other code, enable it with 'u.add_enabled_units'. For details, see https://docs.astropy.org/en/latest/units/combining_and_defining.html [astropy.units.core]\n",
      "WARNING: UnitsWarning: 'Msun' did not parse as fits unit: At col 0, Unit 'Msun' not supported by the FITS standard. Did you mean Sun? If this is meant to be a custom unit, define it with 'u.def_unit'. To have it recognized inside a file reader or other code, enable it with 'u.add_enabled_units'. For details, see https://docs.astropy.org/en/latest/units/combining_and_defining.html [astropy.units.core]\n",
      "WARNING: UnitsWarning: 'dex(yr)' did not parse as fits unit: Unit 'dex' not supported by the FITS standard.  If this is meant to be a custom unit, define it with 'u.def_unit'. To have it recognized inside a file reader or other code, enable it with 'u.add_enabled_units'. For details, see https://docs.astropy.org/en/latest/units/combining_and_defining.html [astropy.units.core]\n",
      "WARNING: UnitsWarning: 'dex(Msun/Lsun,i)' did not parse as fits unit: At col 4, Unit 'Msun' not supported by the FITS standard. Did you mean Sun? If this is meant to be a custom unit, define it with 'u.def_unit'. To have it recognized inside a file reader or other code, enable it with 'u.add_enabled_units'. For details, see https://docs.astropy.org/en/latest/units/combining_and_defining.html [astropy.units.core]\n"
     ]
    },
    {
     "name": "stdout",
     "output_type": "stream",
     "text": [
      "['uberID', 'Z', 'comovingdist', 'nefffilt', 'snratio', 'ppp', 'nefftemp', 'logmstar', 'dellogmstar', 'mstar', 'delmstar', 'logage', 'dellogage', 'logtau', 'dellogtau', 'logmet', 'dellogmet', 'dustEBV', 'deldustEBV', 'logmremnants', 'dellogmremnants', 'logmintsfh', 'dellogmintsfh', 'logLWage', 'dellogLWage', 'uminusr', 'deluminusr', 'uminusr_stars', 'deluminusr_stars', 'gminusi', 'delgminusi', 'gminusi_stars', 'delgminusi_stars', 'logmoverl_i', 'dellogmoverl_i', 'C_logM_gi', 'C_logM_gistars', 'C_logM_ur', 'C_logM_urstars', 'C_logM_logLWage', 'C_logM_EBV', 'absmag_FUV', 'delabsmag_FUV', 'absmag_NUV', 'delabsmag_NUV', 'absmag_u', 'delabsmag_u', 'absmag_g', 'delabsmag_g', 'absmag_r', 'delabsmag_r', 'absmag_i', 'delabsmag_i', 'absmag_Z', 'delabsmag_Z', 'absmag_Y', 'delabsmag_Y', 'absmag_J', 'delabsmag_J', 'absmag_H', 'delabsmag_H', 'absmag_K', 'delabsmag_K', 'absmag_W1', 'delabsmag_W1', 'absmag_W2', 'delabsmag_W2', 'absmag_FUV_stars', 'delabsmag_FUV_stars', 'absmag_NUV_stars', 'delabsmag_NUV_stars', 'absmag_u_stars', 'delabsmag_u_stars', 'absmag_g_stars', 'delabsmag_g_stars', 'absmag_r_stars', 'delabsmag_r_stars', 'absmag_i_stars', 'delabsmag_i_stars', 'absmag_Z_stars', 'delabsmag_Z_stars', 'absmag_Y_stars', 'delabsmag_Y_stars', 'absmag_J_stars', 'delabsmag_J_stars', 'absmag_H_stars', 'delabsmag_H_stars', 'absmag_K_stars', 'delabsmag_K_stars', 'absmag_W1_stars', 'delabsmag_W1_stars', 'absmag_W2_stars', 'delabsmag_W2_stars', 'fitflux_FUV', 'delfitflux_FUV', 'fitflux_NUV', 'delfitflux_NUV', 'fitflux_u', 'delfitflux_u', 'fitflux_g', 'delfitflux_g', 'fitflux_r', 'delfitflux_r', 'fitflux_i', 'delfitflux_i', 'fitflux_Z', 'delfitflux_Z', 'fitflux_Y', 'delfitflux_Y', 'fitflux_J', 'delfitflux_J', 'fitflux_H', 'delfitflux_H', 'fitflux_K', 'delfitflux_K', 'fitflux_W1', 'delfitflux_W1', 'fitflux_W2', 'delfitflux_W2']\n",
      "     uberID        Z     logmstar\n",
      "                        dex(Msun)\n",
      "--------------- ------- ---------\n",
      "214000092003934  0.0539  9.000113\n",
      "212990509212042 0.05384  9.000198\n",
      "181991051908995 0.03781  9.000216\n",
      "341670797506580 0.05535  9.000361\n",
      "222010465308328 0.06311  9.000375\n",
      "129020218910109 0.05822  9.000383\n",
      "181990155205294 0.03502  9.000515\n",
      "214000689202049 0.03865   9.00064\n",
      "175000143901963 0.03966  9.000757\n",
      "350690680200013 0.05196  9.001165\n",
      "            ...     ...       ...\n",
      "137980990907009 0.05485 11.425583\n",
      "181010499810401 0.01972 11.427425\n",
      "215020829601469 0.05543 11.442019\n",
      "134010179809541 0.05333 11.682221\n",
      "135000126200509 0.05374 11.787763\n",
      "173990586704183 0.04989 11.849936\n",
      "346671024206732 0.05487 12.215598\n",
      "132020899906872 0.02866 12.225891\n",
      "131000554407173 0.05128 12.394567\n",
      "339680536700469 0.06159 12.570279\n",
      "Length = 7919 rows\n"
     ]
    }
   ],
   "source": [
    "from astropy.table import Table\n",
    "\n",
    "# Load the fits file\n",
    "data = Table.read('StellarMassesGKVv24.fits', format='fits')\n",
    "\n",
    "filter_data = data[(data['logmstar'] > 9) & (data['Z'] > 5e-3) & (data['Z'] < 0.065)]\n",
    "\n",
    "ned = filter_data.copy()\n",
    "ned.sort( 'logmstar' )\n",
    "print( ned.colnames )\n",
    "print( ned['uberID Z logmstar'.split()] )\n",
    "\n",
    "z = filter_data['Z']\n",
    "logM = filter_data['logmstar']\n",
    "dlogM = filter_data['dellogmstar']"
   ]
  },
  {
   "cell_type": "markdown",
   "id": "25ba6d1e",
   "metadata": {},
   "source": [
    "# MCMC"
   ]
  },
  {
   "cell_type": "code",
   "execution_count": 3,
   "id": "39b7eb5b",
   "metadata": {},
   "outputs": [],
   "source": [
    "#define all the functions\n",
    "\n",
    "def schechter_func(ln_mass, phi_star, ln_m_star, alpha):\n",
    "    x = ln_mass - ln_m_star\n",
    "    #print(alpha,ln_m_star)\n",
    "    sch = np.log(10)*phi_star*(10**(x*(alpha+1)))*np.exp(-10**x)\n",
    "    sch = np.where(np.isfinite(sch), sch, 0)\n",
    "    return sch\n",
    "\n",
    "def lnlike(parvals, data, uncerts=None):\n",
    "    alpha, ln_m_star = parvals\n",
    "    ln_mass= data \n",
    "    \n",
    "    if ln_m_star < 8 :\n",
    "        return -np.inf\n",
    "    \n",
    "    lnprior = -0.5*( (-1 - alpha)/1.5 )**2.\n",
    "    # gaussian prior on alpha, centred at -1, with stderr 1.5\n",
    "    \n",
    "    phi_star = 32.522501276810594\n",
    "    # Vectorized calculation of the Schechter function\n",
    "    sch = schechter_func(ln_mass, phi_star, ln_m_star, alpha)\n",
    "    \n",
    "    # Efficient integral computation\n",
    "    func = lambda x: np.log(10) * phi_star * (10**((x - ln_m_star) * (alpha + 1))) * np.exp(-10**(x - ln_m_star))\n",
    "    norm, _ = quad(func, a=np.min(ln_mass), b=np.max(ln_mass))\n",
    "    \n",
    "    const = 1e-10  # To avoid log(0)\n",
    "    \n",
    "    #Vectorized log sum and normalization\n",
    "#     L = np.nansum(np.log(sch + const)) - len(ln_mass) * np.log(norm + const)\n",
    "\n",
    "    like = np.clip( sch / norm, 1e-12, np.inf )\n",
    "    L = np.nansum( np.log( like ) )\n",
    "    \n",
    "#     print( alpha, ln_m_star, L)\n",
    "    return L + lnprior"
   ]
  },
  {
   "cell_type": "code",
   "execution_count": 4,
   "id": "cd245ee3",
   "metadata": {},
   "outputs": [
    {
     "name": "stdout",
     "output_type": "stream",
     "text": [
      "(30, 2)\n",
      "[-1.33535047  9.50999868]\n"
     ]
    }
   ],
   "source": [
    "#define the parameters for emcee\n",
    "\n",
    "ndim = 2 #m_star,alpha\n",
    "nwalkers = 30 #>=2*ndim; the more the better but makes the code slow if too many\n",
    "\n",
    "#define the initial position of the walkers\n",
    "p0= np.random.rand(nwalkers, ndim) #we use random initial distribution\n",
    "mstar0 = 9.5 + 0.5 * np.random.randn(nwalkers)\n",
    "alpha0 = -1.4 + 0.3 * np.random.rand(nwalkers)\n",
    "p0=np.vstack([alpha0, mstar0]).T\n",
    "\n",
    "print(p0.shape)\n",
    "print(p0[0])"
   ]
  },
  {
   "cell_type": "code",
   "execution_count": 5,
   "id": "38c7e517",
   "metadata": {},
   "outputs": [],
   "source": [
    "#initialize the sampler\n",
    "sampler = emcee.EnsembleSampler(nwalkers, ndim, lnlike, args=[logM,dlogM])"
   ]
  },
  {
   "cell_type": "code",
   "execution_count": 6,
   "id": "2b862724",
   "metadata": {
    "scrolled": true
   },
   "outputs": [
    {
     "name": "stdout",
     "output_type": "stream",
     "text": [
      "emcee: Exception while calling your likelihood function:\n",
      "  params: [-1.40036656 10.93469299]\n",
      "  args: [<Column name='logmstar' dtype='float32' unit='dex(Msun)' length=7919>\n",
      "  9.858135\n",
      "  9.063624\n",
      "  9.641511\n",
      "  9.115373\n",
      "  9.189837\n",
      "  9.769682\n",
      "  9.760006\n",
      " 10.275988\n",
      "  9.788141\n",
      "  9.772195\n",
      "   9.26261\n",
      "   9.25223\n",
      "       ...\n",
      "  9.667327\n",
      " 10.147711\n",
      " 9.6049185\n",
      "  9.017288\n",
      "  9.592418\n",
      "  9.505781\n",
      " 10.325024\n",
      " 10.409446\n",
      "  10.71863\n",
      "10.3311825\n",
      "  9.925141\n",
      "  9.189288, <Column name='dellogmstar' dtype='float32' unit='dex(Msun)' length=7919>\n",
      " 0.09149935\n",
      " 0.12209533\n",
      "0.112708665\n",
      " 0.13073255\n",
      " 0.10958288\n",
      " 0.11234669\n",
      " 0.11359581\n",
      " 0.11350184\n",
      " 0.11537693\n",
      " 0.12879175\n",
      "0.102717586\n",
      " 0.09747942\n",
      "        ...\n",
      " 0.12763193\n",
      "0.057989355\n",
      "0.057340246\n",
      "  0.1384526\n",
      " 0.11539062\n",
      " 0.13121612\n",
      " 0.07428396\n",
      " 0.17782365\n",
      " 0.10826896\n",
      " 0.15329854\n",
      " 0.12661149\n",
      " 0.08984286]\n",
      "  kwargs: {}\n",
      "  exception:\n"
     ]
    },
    {
     "name": "stderr",
     "output_type": "stream",
     "text": [
      "Traceback (most recent call last):\n",
      "  File \"C:\\Python311\\Lib\\site-packages\\emcee\\ensemble.py\", line 624, in __call__\n",
      "    return self.f(x, *self.args, **self.kwargs)\n",
      "           ^^^^^^^^^^^^^^^^^^^^^^^^^^^^^^^^^^^^\n",
      "  File \"C:\\Users\\catch\\AppData\\Local\\Temp\\ipykernel_8524\\989000412.py\", line 34, in lnlike\n",
      "    L = np.nansum( np.log( like ) )\n",
      "                   ^^^^^^^^^^^^^^\n",
      "KeyboardInterrupt\n"
     ]
    },
    {
     "ename": "KeyboardInterrupt",
     "evalue": "",
     "output_type": "error",
     "traceback": [
      "\u001b[1;31m---------------------------------------------------------------------------\u001b[0m",
      "\u001b[1;31mKeyboardInterrupt\u001b[0m                         Traceback (most recent call last)",
      "Cell \u001b[1;32mIn[6], line 2\u001b[0m\n\u001b[0;32m      1\u001b[0m \u001b[38;5;66;03m#run the sampler\u001b[39;00m\n\u001b[1;32m----> 2\u001b[0m state \u001b[38;5;241m=\u001b[39m \u001b[43msampler\u001b[49m\u001b[38;5;241;43m.\u001b[39;49m\u001b[43mrun_mcmc\u001b[49m\u001b[43m(\u001b[49m\u001b[43mp0\u001b[49m\u001b[43m,\u001b[49m\u001b[43m \u001b[49m\u001b[38;5;241;43m100\u001b[39;49m\u001b[43m)\u001b[49m\n\u001b[0;32m      3\u001b[0m sampler\u001b[38;5;241m.\u001b[39mreset()\n\u001b[0;32m      4\u001b[0m state \u001b[38;5;241m=\u001b[39m sampler\u001b[38;5;241m.\u001b[39mrun_mcmc(state\u001b[38;5;241m.\u001b[39mcoords, \u001b[38;5;241m100\u001b[39m)\n",
      "File \u001b[1;32mC:\\Python311\\Lib\\site-packages\\emcee\\ensemble.py:443\u001b[0m, in \u001b[0;36mEnsembleSampler.run_mcmc\u001b[1;34m(self, initial_state, nsteps, **kwargs)\u001b[0m\n\u001b[0;32m    440\u001b[0m     initial_state \u001b[38;5;241m=\u001b[39m \u001b[38;5;28mself\u001b[39m\u001b[38;5;241m.\u001b[39m_previous_state\n\u001b[0;32m    442\u001b[0m results \u001b[38;5;241m=\u001b[39m \u001b[38;5;28;01mNone\u001b[39;00m\n\u001b[1;32m--> 443\u001b[0m \u001b[38;5;28;01mfor\u001b[39;00m results \u001b[38;5;129;01min\u001b[39;00m \u001b[38;5;28mself\u001b[39m\u001b[38;5;241m.\u001b[39msample(initial_state, iterations\u001b[38;5;241m=\u001b[39mnsteps, \u001b[38;5;241m*\u001b[39m\u001b[38;5;241m*\u001b[39mkwargs):\n\u001b[0;32m    444\u001b[0m     \u001b[38;5;28;01mpass\u001b[39;00m\n\u001b[0;32m    446\u001b[0m \u001b[38;5;66;03m# Store so that the ``initial_state=None`` case will work\u001b[39;00m\n",
      "File \u001b[1;32mC:\\Python311\\Lib\\site-packages\\emcee\\ensemble.py:402\u001b[0m, in \u001b[0;36mEnsembleSampler.sample\u001b[1;34m(self, initial_state, log_prob0, rstate0, blobs0, iterations, tune, skip_initial_state_check, thin_by, thin, store, progress, progress_kwargs)\u001b[0m\n\u001b[0;32m    399\u001b[0m move \u001b[38;5;241m=\u001b[39m \u001b[38;5;28mself\u001b[39m\u001b[38;5;241m.\u001b[39m_random\u001b[38;5;241m.\u001b[39mchoice(\u001b[38;5;28mself\u001b[39m\u001b[38;5;241m.\u001b[39m_moves, p\u001b[38;5;241m=\u001b[39m\u001b[38;5;28mself\u001b[39m\u001b[38;5;241m.\u001b[39m_weights)\n\u001b[0;32m    401\u001b[0m \u001b[38;5;66;03m# Propose\u001b[39;00m\n\u001b[1;32m--> 402\u001b[0m state, accepted \u001b[38;5;241m=\u001b[39m \u001b[43mmove\u001b[49m\u001b[38;5;241;43m.\u001b[39;49m\u001b[43mpropose\u001b[49m\u001b[43m(\u001b[49m\u001b[43mmodel\u001b[49m\u001b[43m,\u001b[49m\u001b[43m \u001b[49m\u001b[43mstate\u001b[49m\u001b[43m)\u001b[49m\n\u001b[0;32m    403\u001b[0m state\u001b[38;5;241m.\u001b[39mrandom_state \u001b[38;5;241m=\u001b[39m \u001b[38;5;28mself\u001b[39m\u001b[38;5;241m.\u001b[39mrandom_state\n\u001b[0;32m    405\u001b[0m \u001b[38;5;28;01mif\u001b[39;00m tune:\n",
      "File \u001b[1;32mC:\\Python311\\Lib\\site-packages\\emcee\\moves\\red_blue.py:93\u001b[0m, in \u001b[0;36mRedBlueMove.propose\u001b[1;34m(self, model, state)\u001b[0m\n\u001b[0;32m     90\u001b[0m q, factors \u001b[38;5;241m=\u001b[39m \u001b[38;5;28mself\u001b[39m\u001b[38;5;241m.\u001b[39mget_proposal(s, c, model\u001b[38;5;241m.\u001b[39mrandom)\n\u001b[0;32m     92\u001b[0m \u001b[38;5;66;03m# Compute the lnprobs of the proposed position.\u001b[39;00m\n\u001b[1;32m---> 93\u001b[0m new_log_probs, new_blobs \u001b[38;5;241m=\u001b[39m \u001b[43mmodel\u001b[49m\u001b[38;5;241;43m.\u001b[39;49m\u001b[43mcompute_log_prob_fn\u001b[49m\u001b[43m(\u001b[49m\u001b[43mq\u001b[49m\u001b[43m)\u001b[49m\n\u001b[0;32m     95\u001b[0m \u001b[38;5;66;03m# Loop over the walkers and update them accordingly.\u001b[39;00m\n\u001b[0;32m     96\u001b[0m \u001b[38;5;28;01mfor\u001b[39;00m i, (j, f, nlp) \u001b[38;5;129;01min\u001b[39;00m \u001b[38;5;28menumerate\u001b[39m(\n\u001b[0;32m     97\u001b[0m     \u001b[38;5;28mzip\u001b[39m(all_inds[S1], factors, new_log_probs)\n\u001b[0;32m     98\u001b[0m ):\n",
      "File \u001b[1;32mC:\\Python311\\Lib\\site-packages\\emcee\\ensemble.py:489\u001b[0m, in \u001b[0;36mEnsembleSampler.compute_log_prob\u001b[1;34m(self, coords)\u001b[0m\n\u001b[0;32m    487\u001b[0m     \u001b[38;5;28;01melse\u001b[39;00m:\n\u001b[0;32m    488\u001b[0m         map_func \u001b[38;5;241m=\u001b[39m \u001b[38;5;28mmap\u001b[39m\n\u001b[1;32m--> 489\u001b[0m     results \u001b[38;5;241m=\u001b[39m \u001b[38;5;28mlist\u001b[39m(map_func(\u001b[38;5;28mself\u001b[39m\u001b[38;5;241m.\u001b[39mlog_prob_fn, p))\n\u001b[0;32m    491\u001b[0m \u001b[38;5;28;01mtry\u001b[39;00m:\n\u001b[0;32m    492\u001b[0m     log_prob \u001b[38;5;241m=\u001b[39m np\u001b[38;5;241m.\u001b[39marray([\u001b[38;5;28mfloat\u001b[39m(l[\u001b[38;5;241m0\u001b[39m]) \u001b[38;5;28;01mfor\u001b[39;00m l \u001b[38;5;129;01min\u001b[39;00m results])\n",
      "File \u001b[1;32mC:\\Python311\\Lib\\site-packages\\emcee\\ensemble.py:624\u001b[0m, in \u001b[0;36m_FunctionWrapper.__call__\u001b[1;34m(self, x)\u001b[0m\n\u001b[0;32m    622\u001b[0m \u001b[38;5;28;01mdef\u001b[39;00m \u001b[38;5;21m__call__\u001b[39m(\u001b[38;5;28mself\u001b[39m, x):\n\u001b[0;32m    623\u001b[0m     \u001b[38;5;28;01mtry\u001b[39;00m:\n\u001b[1;32m--> 624\u001b[0m         \u001b[38;5;28;01mreturn\u001b[39;00m \u001b[38;5;28;43mself\u001b[39;49m\u001b[38;5;241;43m.\u001b[39;49m\u001b[43mf\u001b[49m\u001b[43m(\u001b[49m\u001b[43mx\u001b[49m\u001b[43m,\u001b[49m\u001b[43m \u001b[49m\u001b[38;5;241;43m*\u001b[39;49m\u001b[38;5;28;43mself\u001b[39;49m\u001b[38;5;241;43m.\u001b[39;49m\u001b[43margs\u001b[49m\u001b[43m,\u001b[49m\u001b[43m \u001b[49m\u001b[38;5;241;43m*\u001b[39;49m\u001b[38;5;241;43m*\u001b[39;49m\u001b[38;5;28;43mself\u001b[39;49m\u001b[38;5;241;43m.\u001b[39;49m\u001b[43mkwargs\u001b[49m\u001b[43m)\u001b[49m\n\u001b[0;32m    625\u001b[0m     \u001b[38;5;28;01mexcept\u001b[39;00m:  \u001b[38;5;66;03m# pragma: no cover\u001b[39;00m\n\u001b[0;32m    626\u001b[0m         \u001b[38;5;28;01mimport\u001b[39;00m \u001b[38;5;21;01mtraceback\u001b[39;00m\n",
      "Cell \u001b[1;32mIn[3], line 34\u001b[0m, in \u001b[0;36mlnlike\u001b[1;34m(parvals, data, uncerts)\u001b[0m\n\u001b[0;32m     30\u001b[0m     \u001b[38;5;66;03m#Vectorized log sum and normalization\u001b[39;00m\n\u001b[0;32m     31\u001b[0m \u001b[38;5;66;03m#     L = np.nansum(np.log(sch + const)) - len(ln_mass) * np.log(norm + const)\u001b[39;00m\n\u001b[0;32m     33\u001b[0m     like \u001b[38;5;241m=\u001b[39m np\u001b[38;5;241m.\u001b[39mclip( sch \u001b[38;5;241m/\u001b[39m norm, \u001b[38;5;241m1e-12\u001b[39m, np\u001b[38;5;241m.\u001b[39minf )\n\u001b[1;32m---> 34\u001b[0m     L \u001b[38;5;241m=\u001b[39m np\u001b[38;5;241m.\u001b[39mnansum( \u001b[43mnp\u001b[49m\u001b[38;5;241;43m.\u001b[39;49m\u001b[43mlog\u001b[49m\u001b[43m(\u001b[49m\u001b[43m \u001b[49m\u001b[43mlike\u001b[49m\u001b[43m \u001b[49m\u001b[43m)\u001b[49m )\n\u001b[0;32m     36\u001b[0m \u001b[38;5;66;03m#     print( alpha, ln_m_star, L)\u001b[39;00m\n\u001b[0;32m     37\u001b[0m     \u001b[38;5;28;01mreturn\u001b[39;00m L \u001b[38;5;241m+\u001b[39m lnprior\n",
      "\u001b[1;31mKeyboardInterrupt\u001b[0m: "
     ]
    }
   ],
   "source": [
    "#run the sampler\n",
    "state = sampler.run_mcmc(p0, 100)\n",
    "sampler.reset()\n",
    "state = sampler.run_mcmc(state.coords, 100)\n"
   ]
  },
  {
   "cell_type": "code",
   "execution_count": null,
   "id": "814f7c68",
   "metadata": {},
   "outputs": [],
   "source": [
    "walker, step = np.indices( sampler.chain.shape[:2] )\n",
    "\n",
    "plt.figure()\n",
    "plt.scatter( sampler.chain[ ..., 0 ], sampler.chain[ ... , 1 ], .5)\n",
    "\n",
    "plt.figure()\n",
    "plt.scatter( step, sampler.chain[ ..., 0 ] , 1)\n",
    "\n",
    "plt.figure()\n",
    "plt.scatter( step, sampler.chain[ ..., 1 ] ,1)\n"
   ]
  },
  {
   "cell_type": "code",
   "execution_count": null,
   "id": "e79d9c41",
   "metadata": {},
   "outputs": [],
   "source": [
    "x = np.linspace(-1.6,-1,100)\n",
    "lnlx = lambda x : lnlike( [x,10.85], logM, dlogM )\n",
    "\n",
    "def lnlx( x ):\n",
    "    return lnlike( [x,10.85], logM, dlogM )\n",
    "\n",
    "y = [ lnlx(_x) for _x in x ]\n",
    "plt.plot(x,y)"
   ]
  },
  {
   "cell_type": "markdown",
   "id": "c5ac9443",
   "metadata": {},
   "source": [
    "## 2 Schechter 5 Parameter MCMC\n",
    "\n",
    "\\begin{equation}\n",
    "L = \\frac{\\prod_{m_i} \\Phi_{sch}(M_i|\\phi^*,M^*,\\alpha)}{{\\int_{M_{min}}^{M_{max}}}\\Phi d(logM)}\n",
    "\\end{equation}\n",
    "\n",
    "\\begin{equation}\n",
    "\\log L = \\sum_{m_i} \\log \\Phi_{sch}(M_i|\\phi^*,M^*,\\alpha) - N (\\log \\int_{M_{min}}^{M_{max}}\\Phi d(logM))\n",
    "\\end{equation}\n",
    "\n",
    "\\begin{equation}\n",
    "\\Phi_{sch} = f_1 \\phi (\\alpha_1,M_1^*) + (1-f_1)\\phi(\\alpha_2,M_2^*)\n",
    "\\end{equation}"
   ]
  },
  {
   "cell_type": "markdown",
   "id": "d4895452",
   "metadata": {},
   "source": [
    "\n",
    "\\begin{equation}\n",
    "L = f_1 \\frac{\\prod \\Phi (\\log M_i|\\phi^*,\\alpha_1,M_1^*)}{{\\int_{M_{min}}^{M_{max}}}\\Phi (\\log M_i|\\phi^*,\\alpha_1,M_1^*) d(logM)} + (1-f_1)\\frac{\\prod \\Phi (\\log M_i|\\phi^*,\\alpha_2,M_2^*)}{{\\int_{M_{min}}^{M_{max}}}\\Phi (\\log M_i|\\phi^*,\\alpha_2,M_2^*) d(logM)}\n",
    "\\end{equation}"
   ]
  },
  {
   "cell_type": "code",
   "execution_count": 7,
   "id": "b809f52e",
   "metadata": {},
   "outputs": [],
   "source": [
    "#define all the functions\n",
    "\n",
    "def schechter_func(ln_mass, phi_star, ln_m_star, alpha):\n",
    "    x = ln_mass - ln_m_star\n",
    "    #print(alpha,ln_m_star)\n",
    "    sch = np.log(10)*phi_star*(10**(x*(alpha+1)))*np.exp(-10**x)\n",
    "    sch = np.where(np.isfinite(sch), sch, 0)\n",
    "    return sch\n",
    "    \n",
    "def schechter_new(ln_mass, phi_star, ln_m_star1, alpha1, ln_m_star2, alpha2, f1):\n",
    "    sch1 = f1*schechter_func(ln_mass, phi_star, ln_m_star1, alpha1)\n",
    "    sch2 = (1-f1)*schechter_func(ln_mass,phi_star, ln_m_star2, alpha2)\n",
    "    return (sch1+sch2)\n",
    "\n",
    "def schechter_int(ln_mass, phi_star,ln_m_star, alpha):\n",
    "    # Efficient integral computation\n",
    "    func = lambda x: np.log(10) * phi_star * (10**((x - ln_m_star) * (alpha + 1))) * np.exp(-10**(x - ln_m_star))\n",
    "    norm, _ = quad(func, a=np.min(ln_mass), b=np.max(ln_mass))\n",
    "    return norm\n",
    "    \n",
    "def lnlike(parvals, data, uncerts, return_model=False):\n",
    "    alpha1, ln_m_star1, alpha2, ln_m_star2, f1= parvals\n",
    "    ln_mass= data \n",
    "    \n",
    "    a=0\n",
    "    if ln_m_star1 < 8 or ln_m_star2 < 8 or f1 < 0 or f1 > 1:\n",
    "        #print( 'badness' )\n",
    "        a+=1\n",
    "        return -np.inf\n",
    "    \n",
    "    lnprior_alpha1 = -0.5 * ((-1 - alpha1) / 1.5) ** 2\n",
    "    lnprior_alpha2 = -0.5 * ((-1 - alpha2) / 1.5) ** 2\n",
    "    # gaussian prior on alpha, centred at -1, with stderr 1.5\n",
    "    \n",
    "    lnprior = lnprior_alpha1 + lnprior_alpha2\n",
    "    \n",
    "    phi_star = 32.522501276810594\n",
    "    # Vectorized calculation of the Schechter function\n",
    "    sch = schechter_new(ln_mass, phi_star, ln_m_star1, alpha1, ln_m_star2, alpha2, f1)\n",
    "    \n",
    "    #new integral computation \n",
    "    norm = f1*schechter_int(ln_mass, phi_star,ln_m_star1, alpha1) + (1-f1)*schechter_int(ln_mass, phi_star,ln_m_star2, alpha2)\n",
    "    \n",
    "    const = 1e-10  # To avoid log(0)\n",
    "    \n",
    "    #Vectorized log sum and normalization\n",
    "#     L = np.nansum(np.log(sch + const)) - len(ln_mass) * np.log(norm + const)\n",
    "\n",
    "    if return_model :\n",
    "        return np.clip( sch / norm, 1e-12, np.inf )\n",
    "\n",
    "    like = np.clip( sch / norm, 1e-12, np.inf )\n",
    "    L = np.nansum( np.log( like ) )\n",
    "    \n",
    "#     print( parvals, L)\n",
    "    return L + lnprior"
   ]
  },
  {
   "cell_type": "code",
   "execution_count": 8,
   "id": "d32beeca",
   "metadata": {},
   "outputs": [],
   "source": [
    "#define the parameters for emcee\n",
    "\n",
    "ndim = 5 #m_star,alpha\n",
    "nwalkers = 100 #>=2*ndim; the more the better but makes the code slow if too many\n",
    "\n",
    "#define the initial position of the walkers\n",
    "p0= np.random.rand(nwalkers, ndim) #we use random initial distribution\n",
    "mstar00 = 9.7 + 0.005 * np.random.randn(nwalkers)\n",
    "alpha00 = -1.6 + 0.003 * np.random.rand(nwalkers)\n",
    "mstar01 = 9.3 + 0.005 * np.random.randn(nwalkers)\n",
    "alpha01 = -1.6 + 0.003 * np.random.rand(nwalkers)\n",
    "f1 = np.random.rand(nwalkers)\n",
    "\n",
    "p0=np.vstack([alpha00, mstar00, alpha01, mstar01, f1]).T"
   ]
  },
  {
   "cell_type": "code",
   "execution_count": 9,
   "id": "5ee1c793",
   "metadata": {},
   "outputs": [],
   "source": [
    "## initialize the sampler\n",
    "sampler = emcee.EnsembleSampler(nwalkers, ndim, lnlike, args=[logM,dlogM])"
   ]
  },
  {
   "cell_type": "code",
   "execution_count": 10,
   "id": "3b5d225c",
   "metadata": {},
   "outputs": [
    {
     "name": "stderr",
     "output_type": "stream",
     "text": [
      "100%|██████████████████████████████████████████████████████████████████████████████| 1000/1000 [05:31<00:00,  3.02it/s]\n"
     ]
    }
   ],
   "source": [
    "#run the sampler\n",
    "state = sampler.run_mcmc(p0, 1000, progress=True)\n",
    "#sampler.reset()\n",
    "#state = sampler.run_mcmc(state.coords, 100, progress=True)"
   ]
  },
  {
   "cell_type": "code",
   "execution_count": 11,
   "id": "bc7b6ceb",
   "metadata": {},
   "outputs": [
    {
     "data": {
      "image/png": "[encoded data removed]",
      "text/plain": [
       "<Figure size 640x480 with 1 Axes>"
      ]
     },
     "metadata": {},
     "output_type": "display_data"
    }
   ],
   "source": [
    "walker, step = np.indices( sampler.chain.shape[:2] )\n",
    "\n",
    "# plt.figure()\n",
    "# plt.scatter( sampler.chain[ ..., 0 ], sampler.chain[ ... , 1 ], .5)\n",
    "# plt.xlabel(\"alpha0\")\n",
    "# plt.ylabel('Mstar0')\n",
    "# plt.show()\n",
    "\n",
    "# plt.figure()\n",
    "# plt.scatter( step, sampler.chain[ ..., 0 ] , 1)\n",
    "# plt.xlabel(\"walkers\")\n",
    "# plt.ylabel('alpha0')\n",
    "# plt.show()\n",
    "\n",
    "plt.figure()\n",
    "plt.scatter( step, sampler.chain[ ..., 2 ] ,0.5)\n",
    "plt.xlabel(\"walkers\")\n",
    "plt.ylabel('Mstars0')\n",
    "plt.show()\n",
    "\n",
    "#plt.figure()\n",
    "#plt.scatter( sampler.chain[ ..., 1 ], sampler.chain[ ... , 3 ], .5)\n",
    "#plt.xlabel(\"Mstar0\")\n",
    "#plt.ylabel('Mstar1')\n",
    "#plt.show()\n",
    "\n",
    "# plt.figure()\n",
    "# plt.scatter( sampler.chain[ ..., 0 ], sampler.chain[ ... , 2 ], .5)\n",
    "# plt.xlabel(\"alpha0\")\n",
    "# plt.ylabel('alpha1')\n",
    "# #plt.xlim(-1.5,-0.5)\n",
    "# #plt.ylim(-1.5,-0.5)\n",
    "# plt.grid()\n",
    "# plt.show()\n",
    "\n"
   ]
  },
  {
   "cell_type": "code",
   "execution_count": null,
   "id": "1e664332",
   "metadata": {},
   "outputs": [],
   "source": [
    "chain = sampler.chain\n",
    "num_steps, num_walkers, num_params = chain.shape\n",
    "\n",
    "plt.figure(figsize=(10,10))\n",
    "for pi in range( num_params ):\n",
    "    pchain = chain[ ..., pi ]\n",
    "    plt.subplot( num_params, 1, pi+1 )\n",
    "    # then plot the trace for this param\n",
    "    plt.scatter(step, sampler.chain[ ..., pi ] ,0.5)"
   ]
  },
  {
   "cell_type": "code",
   "execution_count": 13,
   "id": "26567c52",
   "metadata": {},
   "outputs": [
    {
     "data": {
      "image/png": "[encoded data removed]",
      "text/plain": [
       "<Figure size 640x480 with 1 Axes>"
      ]
     },
     "metadata": {},
     "output_type": "display_data"
    }
   ],
   "source": [
    "plt.figure()\n",
    "plt.scatter( step, sampler.lnprobability, 1)\n",
    "plt.xlabel(\"steps\")\n",
    "plt.ylabel('lnL')\n",
    "plt.ylim([-5100,-5000])\n",
    "plt.show()"
   ]
  },
  {
   "cell_type": "code",
   "execution_count": 17,
   "id": "6b8534fa",
   "metadata": {},
   "outputs": [
    {
     "name": "stdout",
     "output_type": "stream",
     "text": [
      "59\n"
     ]
    }
   ],
   "source": [
    "print(np.argmax(sampler.lnprobability[:, -1]))"
   ]
  },
  {
   "cell_type": "code",
   "execution_count": 25,
   "id": "9f1d77fc",
   "metadata": {},
   "outputs": [
    {
     "name": "stdout",
     "output_type": "stream",
     "text": [
      "(100, 1000, 5)\n",
      "[-1.5996787   9.70427488 -1.59802992  9.29112116  0.41975914]\n",
      "[-1.76098841e+00  1.16951622e+01 -8.35938463e-01  1.05802827e+01\n",
      "  7.52138813e-03]\n",
      "-19530.803903515778 -5023.208444492158\n"
     ]
    },
    {
     "data": {
      "text/plain": [
       "(0.0001, 1)"
      ]
     },
     "execution_count": 25,
     "metadata": {},
     "output_type": "execute_result"
    },
    {
     "data": {
      "image/png": "[encoded data removed]",
      "text/plain": [
       "<Figure size 640x480 with 1 Axes>"
      ]
     },
     "metadata": {},
     "output_type": "display_data"
    }
   ],
   "source": [
    "print( sampler.chain.shape )\n",
    "print( sampler.chain[59,0] )\n",
    "print( sampler.chain[59,-1] )\n",
    "\n",
    "args=[logM,dlogM]\n",
    "\n",
    "first_model = lnlike( sampler.chain[ 0, -1 ], *args, return_model=True )\n",
    "last_model = lnlike( sampler.chain[ 59, -1 ], *args, return_model=True )\n",
    "\n",
    "first_lnl = lnlike( sampler.chain[ 0, 0 ], *args )\n",
    "last_lnl = lnlike( sampler.chain[ 0, -1 ], *args )\n",
    "\n",
    "print( first_lnl, last_lnl )\n",
    "plt.clf()\n",
    "plt.scatter( logM, first_model, .1 )\n",
    "plt.scatter( logM, last_model, .1 )\n",
    "\n",
    "plt.hist( logM, bins=np.arange( 9, 12, .05 ), density=True, histtype='step' )\n",
    "\n",
    "\n",
    "\n",
    "plt.yscale('log')\n",
    "plt.ylim( 1e-4, 1 )"
   ]
  },
  {
   "cell_type": "markdown",
   "id": "3a1bdd20",
   "metadata": {},
   "source": [
    "### emcee fixed"
   ]
  },
  {
   "cell_type": "code",
   "execution_count": 1,
   "id": "62e2738c",
   "metadata": {},
   "outputs": [
    {
     "ename": "NameError",
     "evalue": "name 'tqdm' is not defined",
     "output_type": "error",
     "traceback": [
      "\u001b[1;31m---------------------------------------------------------------------------\u001b[0m",
      "\u001b[1;31mNameError\u001b[0m                                 Traceback (most recent call last)",
      "Cell \u001b[1;32mIn[1], line 5\u001b[0m\n\u001b[0;32m      3\u001b[0m \u001b[38;5;66;03m# First run with tqdm, using the initial positions p0\u001b[39;00m\n\u001b[0;32m      4\u001b[0m state \u001b[38;5;241m=\u001b[39m \u001b[38;5;28;01mNone\u001b[39;00m\n\u001b[1;32m----> 5\u001b[0m \u001b[38;5;28;01mfor\u001b[39;00m _ \u001b[38;5;129;01min\u001b[39;00m \u001b[43mtqdm\u001b[49m(\u001b[38;5;28mrange\u001b[39m(n_iterations), desc\u001b[38;5;241m=\u001b[39m\u001b[38;5;124m\"\u001b[39m\u001b[38;5;124mRunning MCMC\u001b[39m\u001b[38;5;124m\"\u001b[39m, unit\u001b[38;5;241m=\u001b[39m\u001b[38;5;124m\"\u001b[39m\u001b[38;5;124msteps\u001b[39m\u001b[38;5;124m\"\u001b[39m):\n\u001b[0;32m      6\u001b[0m     state \u001b[38;5;241m=\u001b[39m sampler\u001b[38;5;241m.\u001b[39mrun_mcmc(p0, \u001b[38;5;241m1\u001b[39m)\n\u001b[0;32m      7\u001b[0m     p0 \u001b[38;5;241m=\u001b[39m state\u001b[38;5;241m.\u001b[39mcoords  \u001b[38;5;66;03m# Update p0 to the latest state for the next iteration\u001b[39;00m\n",
      "\u001b[1;31mNameError\u001b[0m: name 'tqdm' is not defined"
     ]
    }
   ],
   "source": [
    "n_iterations = 1000\n",
    "\n",
    "# First run with tqdm, using the initial positions p0\n",
    "state = None\n",
    "for _ in tqdm(range(n_iterations), desc=\"Running MCMC\", unit=\"steps\"):\n",
    "    state = sampler.run_mcmc(p0, 1)\n",
    "    p0 = state.coords  # Update p0 to the latest state for the next iteration\n",
    "\n",
    "sampler.reset()\n",
    "\n",
    "# Second run with tqdm, continuing from the last coordinates of the first run\n",
    "for _ in tqdm(range(n_iterations), desc=\"Continuing MCMC\", unit=\"steps\"):\n",
    "    state = sampler.run_mcmc(state.coords, 1)"
   ]
  },
  {
   "cell_type": "code",
   "execution_count": 31,
   "id": "09daf046",
   "metadata": {},
   "outputs": [
    {
     "name": "stdout",
     "output_type": "stream",
     "text": [
      "(100, 5)\n"
     ]
    }
   ],
   "source": [
    "print(state.coords.shape)"
   ]
  },
  {
   "cell_type": "markdown",
   "id": "bbd921a2",
   "metadata": {},
   "source": [
    "## 2 Schechter 5 Parameter MCMC with $\\phi_0$"
   ]
  },
  {
   "cell_type": "markdown",
   "id": "9eaa1533",
   "metadata": {},
   "source": [
    "\\begin{equation}\n",
    "    N_{exp} = \\oint dV \\oint_{M_l}^{M_h} \\phi d\\log M\n",
    "\\end{equation}\n",
    "\n",
    "\\begin{equation}\n",
    "    L = \\frac{1}{\\sqrt{2\\pi N_{exp}}} exp \\left[\\frac{-1}{2} \\left( \\frac{N_{obs} - N_{exp}}{\\sqrt{Nexp}}\\right)^2\\right]\n",
    "\\end{equation}"
   ]
  },
  {
   "cell_type": "code",
   "execution_count": 8,
   "id": "f28a0dff",
   "metadata": {},
   "outputs": [],
   "source": [
    "#define all the functions\n",
    "\n",
    "def schechter_func(ln_mass, phi_star, ln_m_star, alpha):\n",
    "    x = ln_mass - ln_m_star\n",
    "    #print(alpha,ln_m_star)\n",
    "    sch = np.log(10)*phi_star*(10**(x*(alpha+1)))*np.exp(-10**x)\n",
    "    sch = np.where(np.isfinite(sch), sch, 0)\n",
    "    return sch\n",
    "    \n",
    "def schechter_new(ln_mass, phi_star, ln_m_star1, alpha1, ln_m_star2, alpha2, f1):\n",
    "    sch1 = f1*schechter_func(ln_mass, phi_star, ln_m_star1, alpha1)\n",
    "    sch2 = (1-f1)*schechter_func(ln_mass,phi_star, ln_m_star2, alpha2)\n",
    "    return (sch1+sch2)\n",
    "\n",
    "def schechter_int(ln_mass, phi_star,ln_m_star, alpha):\n",
    "    # Efficient integral computation\n",
    "    func = lambda x: np.log(10) * phi_star * (10**((x - ln_m_star) * (alpha + 1))) * np.exp(-10**(x - ln_m_star))\n",
    "    norm, _ = quad(func, a=np.min(ln_mass), b=np.max(ln_mass))\n",
    "    return norm"
   ]
  },
  {
   "cell_type": "code",
   "execution_count": 9,
   "id": "aa3829b4",
   "metadata": {},
   "outputs": [
    {
     "name": "stdout",
     "output_type": "stream",
     "text": [
      "The volume of the light cone between z=1e-06 and z=0.065 is approximately 524729.98 cubic Mpc.\n"
     ]
    }
   ],
   "source": [
    "def comoving_volume(z_initial, z_final, H0=70, Omega_M=0.3, Omega_Lambda=0.7):\n",
    "    c = 3e5 #light speed in km/s as H0 is 70km/s/MPc\n",
    "    # For a flat universe, Omega_k = 0\n",
    "    Omega_k = 1 - Omega_M - Omega_Lambda  \n",
    "    # Hubble distance in Mpc\n",
    "    DH = c / H0  \n",
    "\n",
    "    # Angular size distance\n",
    "    def E(z, Omega_M=Omega_M, Omega_Lambda=Omega_Lambda, Omega_k=Omega_k):\n",
    "        return np.sqrt(Omega_M * (1 + z)**3 + Omega_k * (1 + z)**2 + Omega_Lambda)\n",
    "\n",
    "    # Integral for comoving distance DC\n",
    "    def comoving_distance(z):\n",
    "        return quad(lambda z: 1/E(z), 0, z)[0] * DH\n",
    "\n",
    "    # Calculate DC for initial and final redshifts\n",
    "    DC_initial = comoving_distance(z_initial)\n",
    "    DC_final = comoving_distance(z_final)\n",
    "\n",
    "    # Volume of the light cone V_C using the formula for Omega_k = 0 (flat universe)\n",
    "    VC_initial = (4 * np.pi / 3) * DC_initial**3\n",
    "    VC_final = (4 * np.pi / 3) * DC_final**3\n",
    "\n",
    "    # The volume covered between z_initial and z_final is the difference\n",
    "    V_360 = VC_final - VC_initial\n",
    "    \n",
    "    #full sky has 41253 sq degrees and GAMA has 250sq degrees\n",
    "    V_gama = 250/41253 * V_360\n",
    "    \n",
    "    return V_gama\n",
    "\n",
    "# Initial and final redshifts\n",
    "z_initial = 1e-6\n",
    "z_final = 0.065\n",
    "\n",
    "# Calculate and print the volume of the light cone\n",
    "volume = comoving_volume(z_initial, z_final)\n",
    "print(f\"The volume of the light cone between z={z_initial} and z={z_final} is approximately {volume:.2f} cubic Mpc.\")"
   ]
  },
  {
   "cell_type": "code",
   "execution_count": 92,
   "id": "3d89c613",
   "metadata": {},
   "outputs": [],
   "source": [
    "from astropy.cosmology import Planck15\n",
    "def co_vol(z_initial, z_final, Omega = 0.0873):\n",
    "    V23  = Planck15.comoving_volume(z_final) - Planck15.comoving_volume(z_initial)\n",
    "    V    = Omega/(4*np.pi) * V23\n",
    "    return V.value"
   ]
  },
  {
   "cell_type": "code",
   "execution_count": 93,
   "id": "47412ec8",
   "metadata": {},
   "outputs": [],
   "source": [
    "def pslike(ln_mass,phi_star, ln_m_star, alpha):\n",
    "    #expected Number Counts\n",
    "    def Nexp(ln_mass, phi_star, ln_m_star, alpha, z_initial=1e-6, z_final=0.065):\n",
    "        #V=comoving_volume(z_initial,z_final)\n",
    "        V=co_vol(z_initial,z_final) \n",
    "        phi_int =  schechter_int(ln_mass, phi_star, ln_m_star, alpha)\n",
    "        Nexp = V * phi_int\n",
    "        print (V)\n",
    "        return Nexp\n",
    "    \n",
    "    #log Likelihood\n",
    "    Nobs = len(z)\n",
    "    Nexp = Nexp(ln_mass,phi_star, ln_m_star, alpha)\n",
    "    logL =(-1./2)*(((Nobs-Nexp)**2)/Nexp) +(1/(2*np.log(2*np.pi*Nexp)))\n",
    "    print(logL, Nexp, Nobs)\n",
    "    \n",
    "    #print(logL, Nobs, Nexp)\n",
    "    return logL"
   ]
  },
  {
   "cell_type": "code",
   "execution_count": 94,
   "id": "9a383bda",
   "metadata": {},
   "outputs": [],
   "source": [
    "def lnlike(parvals, data, uncerts):\n",
    "    alpha, ln_m_star, phi_star = parvals\n",
    "    ln_mass= data \n",
    "    \n",
    "    if ln_m_star < 8 and phi_star < 0:\n",
    "        return -np.inf\n",
    "    \n",
    "    lnprior = -0.5*( (-2 - alpha)/1.5 )**2.\n",
    "    # gaussian prior on alpha, centred at -1, with stderr 1.5\n",
    "    \n",
    "    # Vectorized calculation of the Schechter function\n",
    "    sch = schechter_func(ln_mass, phi_star, ln_m_star, alpha)\n",
    "    \n",
    "    # Efficient integral computation\n",
    "    norm = schechter_int(ln_mass, phi_star, ln_m_star, alpha)\n",
    "    \n",
    "    const = 1e-10  # To avoid log(0)\n",
    "    \n",
    "    #Vectorized log sum and normalization\n",
    "    #L = np.nansum(np.log(sch + const)) - len(ln_mass) * np.log(norm + const)\n",
    "\n",
    "    like = np.clip( sch / norm, 1e-12, np.inf )\n",
    "    L = np.nansum( np.log( like ) )\n",
    "    \n",
    "    #print( alpha, ln_m_star, L)\n",
    "    return L + lnprior #+ pslike(ln_mass, phi_star, ln_m_star, alpha)"
   ]
  },
  {
   "cell_type": "code",
   "execution_count": 95,
   "id": "3fd0a126",
   "metadata": {
    "scrolled": true
   },
   "outputs": [
    {
     "data": {
      "text/plain": [
       "-5054.920906597222"
      ]
     },
     "execution_count": 95,
     "metadata": {},
     "output_type": "execute_result"
    }
   ],
   "source": [
    "lnlike((-1.18,10.85, 32.522501276810594), logM, dlogM)"
   ]
  },
  {
   "cell_type": "code",
   "execution_count": 96,
   "id": "60d86311",
   "metadata": {},
   "outputs": [
    {
     "name": "stderr",
     "output_type": "stream",
     "text": [
      "100%|██████████████████████████████████████████████████████████████████████████████| 100/100 [00:00<00:00, 1008.29it/s]\n"
     ]
    },
    {
     "name": "stdout",
     "output_type": "stream",
     "text": [
      "661517.6219358544\n",
      "-82913363.21535142 165842564.10072905 7919\n",
      "661517.6219358544\n",
      "-82466375.84185264 164948589.3516946 7919\n",
      "661517.6219358544\n",
      "-82022266.57039349 164060370.80673057 7919\n",
      "661517.6219358544\n",
      "-81581015.66103761 163177868.9859641 7919\n",
      "661517.6219358544\n",
      "-81142603.51518829 162301044.69220176 7919\n",
      "661517.6219358544\n",
      "-80707010.67454833 161429859.00884917 7919\n",
      "661517.6219358544\n",
      "-80274217.8200871 160564273.29784504 7919\n",
      "661517.6219358544\n",
      "-79844205.77101545 159704249.197611 7919\n",
      "661517.6219358544\n",
      "-79416955.48376867 158849748.62101766 7919\n",
      "661517.6219358544\n",
      "-78992448.05099677 158000733.75336498 7919\n",
      "661517.6219358544\n",
      "-78570664.70056206 157157167.0503776 7919\n",
      "661517.6219358544\n",
      "-78151586.79454534 156319011.2362171 7919\n",
      "661517.6219358544\n",
      "-77735195.82825813 155486229.3015065 7919\n",
      "661517.6219358544\n",
      "-77321473.42926349 154658784.50137186 7919\n",
      "661517.6219358544\n",
      "-76910401.35640344 153836640.35349724 7919\n",
      "661517.6219358544\n",
      "-76501961.4988341 153019760.63619485 7919\n",
      "661517.6219358544\n",
      "-76096135.87506796 152208109.38648963 7919\n",
      "661517.6219358544\n",
      "-75692906.63202314 151401650.89821783 7919\n",
      "661517.6219358544\n",
      "-75292256.04408017 150600349.72014043 7919\n",
      "661517.6219358544\n",
      "-74894166.51214544 149804170.65407032 7919\n",
      "661517.6219358544\n",
      "-74498620.56272206 149013078.75301355 7919\n",
      "661517.6219358544\n",
      "-74105600.84698732 148227039.3193248 7919\n",
      "661517.6219358544\n",
      "-73715090.13987735 147446017.90287626 7919\n",
      "661517.6219358544\n",
      "-73327071.33917859 146669980.29924074 7919\n",
      "661517.6219358544\n",
      "-72941527.46462584 145898892.54788795 7919\n",
      "661517.6219358544\n",
      "-72558441.65700758 145132720.93039468 7919\n",
      "661517.6219358544\n",
      "-72177797.17727719 144371431.9686678 7919\n",
      "661517.6219358544\n",
      "-71799577.40567185 143614992.4231816 7919\n",
      "661517.6219358544\n",
      "-71423765.84083715 142863369.29122722 7919\n",
      "661517.6219358544\n",
      "-71050346.09895884 142116529.80517617 7919\n",
      "661517.6219358544\n",
      "-70679301.91290066 141374441.4307559 7919\n",
      "661517.6219358544\n",
      "-70310617.13134904 140637071.86533928 7919\n",
      "661517.6219358544\n",
      "-69944275.7179639 139904389.03624612 7919\n",
      "661517.6219358544\n",
      "-69580261.75053592 139176361.09905773 7919\n",
      "661517.6219358544\n",
      "-69218559.42015012 138452956.43594417 7919\n",
      "661517.6219358544\n",
      "-68859153.03035578 137734143.65400398 7919\n",
      "661517.6219358544\n",
      "-68502026.99634238 137019891.58361608 7919\n",
      "661517.6219358544\n",
      "-68147165.8441219 136310169.27680445 7919\n",
      "661517.6219358544\n",
      "-67794554.20971623 135604946.0056128 7919\n",
      "661517.6219358544\n",
      "-67444176.83835539 134904191.26050118 7919\n",
      "661517.6219358544\n",
      "-67096018.58367218 134207874.74873519 7919\n",
      "661517.6219358544\n",
      "-66750064.406912595 133515966.3928068 7919\n",
      "661517.6219358544\n",
      "-66406299.376147114 132828436.32885693 7919\n",
      "661517.6219358544\n",
      "-66064708.665488936 132145254.905112 7919\n",
      "661517.6219358544\n",
      "-65725277.554318324 131466392.68033248 7919\n",
      "661517.6219358544\n",
      "-65387991.42651222 130791820.42227225 7919\n",
      "661517.6219358544\n",
      "-65052835.769680165 130121509.1061504 7919\n",
      "661517.6219358544\n",
      "-64719796.174405545 129455429.91313365 7919\n",
      "661517.6219358544\n",
      "-64388858.33349271 128793554.22883072 7919\n",
      "661517.6219358544\n",
      "-64060008.04121969 128135853.64179763 7919\n",
      "661517.6219358544\n",
      "-63733231.192596376 127482299.94205417 7919\n",
      "661517.6219358544\n",
      "-63408513.78262849 126832865.11961176 7919\n",
      "661517.6219358544\n",
      "-63085841.90558679 126187521.36301187 7919\n",
      "661517.6219358544\n",
      "-62765201.75428186 125546241.05787571 7919\n",
      "661517.6219358544\n",
      "-62446579.61934443 124908996.78546466 7919\n",
      "661517.6219358544\n",
      "-62129961.88851075 124275761.32125129 7919\n",
      "661517.6219358544\n",
      "-61815335.045913726 123646507.63350132 7919\n",
      "661517.6219358544\n",
      "-61502685.67137897 123021208.88186601 7919\n",
      "661517.6219358544\n",
      "-61192000.439726315 122399838.41598499 7919\n",
      "661517.6219358544\n",
      "-60883266.120076545 121782369.77409983 7919\n",
      "661517.6219358544\n",
      "-60576469.575163126 121168776.68167745 7919\n",
      "661517.6219358544\n",
      "-60271597.76064933 120559033.05004436 7919\n",
      "661517.6219358544\n",
      "-59968637.72445033 119953112.9750309 7919\n",
      "661517.6219358544\n",
      "-59667576.606060185 119350990.73562518 7919\n",
      "661517.6219358544\n",
      "-59368401.63588417 118752640.79263774 7919\n",
      "661517.6219358544\n",
      "-59071100.13457588 118158037.78737576 7919\n",
      "661517.6219358544\n",
      "-58775659.51237932 117567156.54032724 7919\n",
      "661517.6219358544\n",
      "-58482067.26847591 116979972.04985501 7919\n",
      "661517.6219358544\n",
      "-58190310.99033633 116396459.49090041 7919\n",
      "661517.6219358544\n",
      "-57900378.35307736 115816594.21369697 7919\n",
      "661517.6219358544\n",
      "-57612257.11882312 115240351.74249297 7919\n",
      "661517.6219358544\n",
      "-57325935.13607163 114667707.77428441 7919\n",
      "661517.6219358544\n",
      "-57041400.33906559 114098638.17755666 7919\n",
      "661517.6219358544\n",
      "-56758640.747168146 113533118.99103603 7919\n",
      "661517.6219358544\n",
      "-56477644.46424319 112971126.42245029 7919\n",
      "661517.6219358544\n",
      "-56198399.67804023 112412636.84729843 7919\n",
      "661517.6219358544\n",
      "-55920894.65958421 111857626.80763036 7919\n",
      "661517.6219358544\n",
      "-55645117.76256911 111306073.010834 7919\n",
      "661517.6219358544\n",
      "-55371057.422756925 110757952.32843333 7919\n",
      "661517.6219358544\n",
      "-55098702.15738061 110213241.79489426 7919\n",
      "661517.6219358544\n",
      "-54828040.56455148 109671918.60643944 7919\n",
      "661517.6219358544\n",
      "-54559061.32267131 109133960.11987238 7919\n",
      "661517.6219358544\n",
      "-54291753.18984853 108599343.8514099 7919\n",
      "661517.6219358544\n",
      "-54026105.00331883 108068047.47552346 7919\n",
      "661517.6219358544\n",
      "-53762105.67887027 107540048.82378909 7919\n",
      "661517.6219358544\n",
      "-53499744.21027233 107015325.88374577 7919\n",
      "661517.6219358544\n",
      "-53239009.668709524 106493856.79776254 7919\n",
      "661517.6219358544\n",
      "-52979891.20221902 105975619.86191373 7919\n",
      "661517.6219358544\n",
      "-52722378.03513257 105460593.5248628 7919\n",
      "661517.6219358544\n",
      "-52466459.46752247 104948756.38675433 7919\n",
      "661517.6219358544\n",
      "-52212124.87465182 104440087.19811456 7919\n",
      "661517.6219358544\n",
      "-51959363.70642864 103934564.85875951 7919\n",
      "661517.6219358544\n",
      "-51708165.486864224 103432168.4167117 7919\n",
      "661517.6219358544\n",
      "-51458519.81353541 102932877.06712492 7919\n",
      "661517.6219358544\n",
      "-51210416.35705103 102436670.15121673 7919\n",
      "661517.6219358544\n",
      "-50963844.86052201 101943527.15520902 7919\n",
      "661517.6219358544\n",
      "-50718795.13903574 101453427.70927653 7919\n",
      "661517.6219358544\n",
      "-50475257.07913409 100966351.58650304 7919\n",
      "661517.6219358544\n",
      "-50233220.63829551 100482278.70184544 7919\n",
      "661517.6219358544\n",
      "-49992675.84442077 100001189.1111052 7919\n"
     ]
    },
    {
     "data": {
      "image/png": "[encoded data removed]",
      "text/plain": [
       "<Figure size 700x620 with 1 Axes>"
      ]
     },
     "metadata": {},
     "output_type": "display_data"
    }
   ],
   "source": [
    "alpha = np.linspace(-1.3,-1.1,100)\n",
    "L_values = np.zeros(len(alpha))\n",
    "P_values = np.zeros(len(alpha))\n",
    "T_values = np.zeros(len(alpha))\n",
    "\n",
    "from tqdm import tqdm\n",
    "for i in tqdm(range(len(alpha))):\n",
    "    phi, M = 32.522501276810594, 86751986104.16612\n",
    "    L_values[i] = lnlike((alpha[i],10.85, 32.522501276810594), logM, dlogM)\n",
    "    P_values[i] = pslike(logM, 32.522501276810594, 10.85, alpha[i])\n",
    "    T_values[i] = L_values[i] + P_values[i]\n",
    "    \n",
    "plt.figure(figsize=(7,6.2))\n",
    "\n",
    "minima = alpha[np.argmax(L_values)]\n",
    "\n",
    "#plt.plot(alpha,L_values, color= 'blue')\n",
    "plt.plot(alpha,P_values, color= 'red')\n",
    "plt.plot(alpha,T_values, color= 'green')\n",
    "\n",
    "#plt.axvline(x = minima, color = 'black',linestyle=':', label = 'axvline - full height')\n",
    "\n",
    "#plt.text(minima-0.005, plt.gca().get_ylim()[0]-7, str(round(minima,2)), ha='center', va='top', fontweight=1000)\n",
    "\n",
    "plt.title(r'$\\alpha$ vs $\\log L$')\n",
    "\n",
    "plt.grid(alpha=0.5, linestyle=':')\n",
    "\n",
    "plt.xlabel('alpha', fontsize=13)\n",
    "plt.ylabel('log L', fontsize=13)\n",
    "\n",
    "plt.show()"
   ]
  },
  {
   "cell_type": "code",
   "execution_count": 91,
   "id": "0d93e801",
   "metadata": {},
   "outputs": [
    {
     "ename": "NameError",
     "evalue": "name 'alpha00' is not defined",
     "output_type": "error",
     "traceback": [
      "\u001b[1;31m---------------------------------------------------------------------------\u001b[0m",
      "\u001b[1;31mNameError\u001b[0m                                 Traceback (most recent call last)",
      "Cell \u001b[1;32mIn[91], line 12\u001b[0m\n\u001b[0;32m      9\u001b[0m alpha0 \u001b[38;5;241m=\u001b[39m \u001b[38;5;241m-\u001b[39m\u001b[38;5;241m1.6\u001b[39m \u001b[38;5;241m+\u001b[39m \u001b[38;5;241m0.003\u001b[39m \u001b[38;5;241m*\u001b[39m np\u001b[38;5;241m.\u001b[39mrandom\u001b[38;5;241m.\u001b[39mrand(nwalkers)\n\u001b[0;32m     10\u001b[0m f1 \u001b[38;5;241m=\u001b[39m np\u001b[38;5;241m.\u001b[39mrandom\u001b[38;5;241m.\u001b[39mrand(nwalkers)\n\u001b[1;32m---> 12\u001b[0m p0\u001b[38;5;241m=\u001b[39mnp\u001b[38;5;241m.\u001b[39mvstack([\u001b[43malpha00\u001b[49m, mstar00, alpha01, mstar01, f1])\u001b[38;5;241m.\u001b[39mT\n",
      "\u001b[1;31mNameError\u001b[0m: name 'alpha00' is not defined"
     ]
    }
   ],
   "source": [
    "#define the parameters for emcee\n",
    "\n",
    "ndim = 5 #m_star,alpha\n",
    "nwalkers = 100 #>=2*ndim; the more the better but makes the code slow if too many\n",
    "\n",
    "#define the initial position of the walkers\n",
    "p0= np.random.rand(nwalkers, ndim) #we use random initial distribution\n",
    "mstar0 = 9.7 + 0.005 * np.random.randn(nwalkers)\n",
    "alpha0 = -1.6 + 0.003 * np.random.rand(nwalkers)\n",
    "f1 = np.random.rand(nwalkers)\n",
    "\n",
    "p0=np.vstack([alpha00, mstar00, alpha01, mstar01, f1]).T"
   ]
  },
  {
   "cell_type": "code",
   "execution_count": null,
   "id": "c8073b3b",
   "metadata": {},
   "outputs": [],
   "source": []
  },
  {
   "cell_type": "code",
   "execution_count": null,
   "id": "f1572d36",
   "metadata": {},
   "outputs": [],
   "source": []
  }
 ],
 "metadata": {
  "kernelspec": {
   "display_name": "Python 3 (ipykernel)",
   "language": "python",
   "name": "python3"
  },
  "language_info": {
   "codemirror_mode": {
    "name": "ipython",
    "version": 3
   },
   "file_extension": ".py",
   "mimetype": "text/x-python",
   "name": "python",
   "nbconvert_exporter": "python",
   "pygments_lexer": "ipython3",
   "version": "3.11.2"
  }
 },
 "nbformat": 4,
 "nbformat_minor": 5
}
