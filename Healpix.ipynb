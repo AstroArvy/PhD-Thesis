{
 "cells": [
  {
   "cell_type": "code",
   "execution_count": 1,
   "id": "bcc4c271",
   "metadata": {},
   "outputs": [
    {
     "ename": "ModuleNotFoundError",
     "evalue": "No module named 'healpy'",
     "output_type": "error",
     "traceback": [
      "\u001b[1;31m---------------------------------------------------------------------------\u001b[0m",
      "\u001b[1;31mModuleNotFoundError\u001b[0m                       Traceback (most recent call last)",
      "Cell \u001b[1;32mIn[1], line 2\u001b[0m\n\u001b[0;32m      1\u001b[0m \u001b[38;5;28;01mimport\u001b[39;00m \u001b[38;5;21;01mnumpy\u001b[39;00m \u001b[38;5;28;01mas\u001b[39;00m \u001b[38;5;21;01mnp\u001b[39;00m\n\u001b[1;32m----> 2\u001b[0m \u001b[38;5;28;01mimport\u001b[39;00m \u001b[38;5;21;01mhealpy\u001b[39;00m \u001b[38;5;28;01mas\u001b[39;00m \u001b[38;5;21;01mhp\u001b[39;00m\n\u001b[0;32m      3\u001b[0m \u001b[38;5;28;01mimport\u001b[39;00m \u001b[38;5;21;01mpandas\u001b[39;00m \u001b[38;5;28;01mas\u001b[39;00m \u001b[38;5;21;01mpd\u001b[39;00m  \u001b[38;5;66;03m# Import pandas for reading CSV files\u001b[39;00m\n\u001b[0;32m      5\u001b[0m \u001b[38;5;66;03m# Path to your CSV file\u001b[39;00m\n",
      "\u001b[1;31mModuleNotFoundError\u001b[0m: No module named 'healpy'"
     ]
    }
   ],
   "source": [
    "import numpy as np\n",
    "import healpy as hp\n",
    "import pandas as pd  # Import pandas for reading CSV files\n",
    "\n",
    "# Path to your CSV file\n",
    "csv_file = 'path_to_your_csv_file.csv'\n",
    "\n",
    "# Read the CSV file\n",
    "data = pd.read_csv(csv_file)\n",
    "\n",
    "# Extract RA and Dec\n",
    "ra = data['ra'].values  # RA in hours\n",
    "dec = data['dec'].values  # Dec in degrees\n",
    "\n",
    "# Convert RA (in hours) and Dec (in degrees) to radians\n",
    "ra_rad = np.radians(ra * 15)  # RA from hours to degrees, then to radians\n",
    "dec_rad = np.radians(dec)\n",
    "\n",
    "# Convert to angular coordinates expected by HEALPix\n",
    "theta = np.pi/2 - dec_rad\n",
    "phi = ra_rad\n",
    "\n",
    "# Choose the NSIDE parameter for the HEALPix map (must be a power of 2)\n",
    "nside = 64\n",
    "npix = hp.nside2npix(nside)\n",
    "\n",
    "# Create an empty HEALPix map and fill it with data\n",
    "hpxmap = np.zeros(npix, dtype=np.float)\n",
    "\n",
    "# Use ang2pix to find the pixel indices for each galaxy position\n",
    "pix_indices = hp.ang2pix(nside, theta, phi)\n",
    "\n",
    "# Fill the map - for simplicity, we're just counting galaxies per pixel here\n",
    "for pix in pix_indices:\n",
    "    hpxmap[pix] += 1\n",
    "\n",
    "# Plot the map\n",
    "hp.mollview(hpxmap, title=\"Sky Map of Galaxies\", unit=\"Number of galaxies\", norm=\"hist\")\n",
    "hp.graticule()"
   ]
  },
  {
   "cell_type": "code",
   "execution_count": null,
   "id": "c6585dbd",
   "metadata": {},
   "outputs": [],
   "source": []
  }
 ],
 "metadata": {
  "kernelspec": {
   "display_name": "Python 3 (ipykernel)",
   "language": "python",
   "name": "python3"
  },
  "language_info": {
   "codemirror_mode": {
    "name": "ipython",
    "version": 3
   },
   "file_extension": ".py",
   "mimetype": "text/x-python",
   "name": "python",
   "nbconvert_exporter": "python",
   "pygments_lexer": "ipython3",
   "version": "3.11.2"
  }
 },
 "nbformat": 4,
 "nbformat_minor": 5
}
